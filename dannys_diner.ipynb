{
 "cells": [
  {
   "cell_type": "markdown",
   "metadata": {},
   "source": [
    "# Introduction\n",
    "\n",
    "Danny seriously loves Japanese food so in the beginning of 2021, he decides to embark upon a risky venture and opens up a cute little restaurant that sells his 3 favourite foods: sushi, curry and ramen.\n",
    "\n",
    "Danny’s Diner is in need of your assistance to help the restaurant stay afloat - the restaurant has captured some very basic data from their few months of operation but have no idea how to use their data to help them run the business."
   ]
  },
  {
   "cell_type": "markdown",
   "metadata": {},
   "source": [
    "## Problem Statement\n",
    "Danny wants to use the data to answer a few simple questions about his customers, especially about their visiting patterns, how much money they’ve spent and also which menu items are their favourite. Having this deeper connection with his customers will help him deliver a better and more personalised experience for his loyal customers.\n",
    "\n",
    "He plans on using these insights to help him decide whether he should expand the existing customer loyalty program - additionally he needs help to generate some basic datasets so his team can easily inspect the data without needing to use SQL.\n",
    "\n",
    "Danny has provided you with a sample of his overall customer data due to privacy issues - but he hopes that these examples are enough for you to write fully functioning SQL queries to help him answer his questions!\n",
    "\n",
    "Danny has shared with you 3 key datasets for this case study:\n",
    "\n",
    "- sales\n",
    "- menu\n",
    "- members\n",
    "\n",
    "You can inspect the entity relationship diagram and example data below."
   ]
  },
  {
   "cell_type": "markdown",
   "metadata": {},
   "source": [
    "## Case Study Questions\n",
    "Each of the following case study questions can be answered using a single SQL statement:\n",
    "\n",
    "1. What is the total amount each customer spent at the restaurant?\n",
    "2. How many days has each customer visited the restaurant?\n",
    "3. What was the first item from the menu purchased by each customer?\n",
    "4. What is the most purchased item on the menu and how many times was it purchased by all customers?\n",
    "5. Which item was the most popular for each customer?\n",
    "6. Which item was purchased first by the customer after they became a member?\n",
    "7. Which item was purchased just before the customer became a member?\n",
    "8. What is the total items and amount spent for each member before they became a member?\n",
    "9. If each $1 spent equates to 10 points and sushi has a 2x points multiplier - how many points would each customer have?\n",
    "10. In the first week after a customer joins the program (including their join date) they earn 2x points on all items, not just sushi - how many points do customer A and B have at the end of January?"
   ]
  },
  {
   "cell_type": "markdown",
   "metadata": {},
   "source": [
    "# Preparation"
   ]
  },
  {
   "cell_type": "markdown",
   "metadata": {},
   "source": [
    "## Import libraries and setup dependencies"
   ]
  },
  {
   "cell_type": "code",
   "execution_count": 51,
   "metadata": {},
   "outputs": [],
   "source": [
    "import iplantuml"
   ]
  },
  {
   "cell_type": "code",
   "execution_count": 52,
   "metadata": {},
   "outputs": [
    {
     "name": "stdout",
     "output_type": "stream",
     "text": [
      "The sql extension is already loaded. To reload it, use:\n",
      "  %reload_ext sql\n"
     ]
    }
   ],
   "source": [
    "%load_ext sql"
   ]
  },
  {
   "cell_type": "code",
   "execution_count": 53,
   "metadata": {},
   "outputs": [],
   "source": [
    "%sql sqlite:///dannys_diner.db"
   ]
  },
  {
   "cell_type": "markdown",
   "metadata": {},
   "source": [
    "## Prepare data base\n",
    "\n",
    "Create tables:\n",
    "- Sales\n",
    "- Menu\n",
    "- Member\n",
    "\n",
    "And populated tables by values"
   ]
  },
  {
   "cell_type": "code",
   "execution_count": 72,
   "metadata": {},
   "outputs": [
    {
     "name": "stdout",
     "output_type": "stream",
     "text": [
      "Writing output for /Users/dzianiskuziomkin/Repositories/case_study_1/50a9933d-14ff-43ea-9a3b-84e6dc41a656.uml to 50a9933d-14ff-43ea-9a3b-84e6dc41a656.svg\n"
     ]
    },
    {
     "data": {
      "image/svg+xml": "<svg xmlns=\"http://www.w3.org/2000/svg\" xmlns:xlink=\"http://www.w3.org/1999/xlink\" contentStyleType=\"text/css\" height=\"251px\" preserveAspectRatio=\"none\" style=\"width:470px;height:251px;background:#FFFFFF;\" version=\"1.1\" viewBox=\"0 0 470 251\" width=\"470px\" zoomAndPan=\"magnify\"><defs/><g><!--class sales--><g id=\"elem_sales\"><rect codeLine=\"1\" fill=\"#F1F1F1\" height=\"96.8906\" id=\"sales\" rx=\"2.5\" ry=\"2.5\" style=\"stroke:#181818;stroke-width:0.5;\" width=\"210\" x=\"7\" y=\"148\"/><ellipse cx=\"90.25\" cy=\"164\" fill=\"#ADD1B2\" rx=\"11\" ry=\"11\" style=\"stroke:#181818;stroke-width:1.0;\"/><path d=\"M89.0469,164.875 L90.5,164.875 L90.5,164.9844 C90.5,165.3906 90.5313,165.5469 90.6094,165.7031 C90.7656,165.9531 91.0469,166.1094 91.3438,166.1094 C91.5938,166.1094 91.8594,165.9688 92.0156,165.75 C92.1406,165.5938 92.1719,165.4375 92.1719,164.9844 L92.1719,163.0625 C92.1719,162.9063 92.1719,162.8594 92.1563,162.7031 C92.0938,162.2344 91.7813,161.9219 91.3281,161.9219 C91.0781,161.9219 90.8125,162.0625 90.6406,162.2813 C90.5313,162.4531 90.5,162.6094 90.5,163.0625 L90.5,163.1875 L89.0469,163.1875 L89.0469,160.7813 L93.0313,160.7813 L93.0313,161.6406 C93.0313,162.0469 93.0625,162.2188 93.1406,162.375 C93.3125,162.625 93.5938,162.7813 93.875,162.7813 C94.1406,162.7813 94.4063,162.6406 94.5781,162.4219 C94.6875,162.25 94.7188,162.1094 94.7188,161.6406 L94.7188,159.0938 L87.0938,159.0938 C86.6563,159.0938 86.5313,159.1094 86.375,159.2031 C86.125,159.3594 85.9688,159.6563 85.9688,159.9375 C85.9688,160.2188 86.1094,160.4688 86.3281,160.6406 C86.4844,160.75 86.6719,160.7813 87.0938,160.7813 L87.3438,160.7813 L87.3438,167.2969 L87.0938,167.2969 C86.6875,167.2969 86.5313,167.3125 86.375,167.4219 C86.125,167.5938 85.9688,167.8594 85.9688,168.1563 C85.9688,168.4219 86.1094,168.6719 86.3281,168.8281 C86.4688,168.9531 86.7031,169 87.0938,169 L95.0938,169 L95.0938,166.4219 C95.0938,165.9844 95.0625,165.8438 94.9844,165.6875 C94.8125,165.4375 94.5313,165.2813 94.25,165.2813 C93.9844,165.2813 93.7188,165.3906 93.5469,165.6406 C93.4375,165.7969 93.4063,165.9375 93.4063,166.4219 L93.4063,167.2969 L89.0469,167.2969 L89.0469,164.875 Z \" fill=\"#000000\"/><text fill=\"#000000\" font-family=\"sans-serif\" font-size=\"14\" lengthAdjust=\"spacing\" textLength=\"35\" x=\"110.75\" y=\"168.8467\">sales</text><line style=\"stroke:#181818;stroke-width:0.5;\" x1=\"8\" x2=\"216\" y1=\"180\" y2=\"180\"/><ellipse cx=\"18\" cy=\"193.6484\" fill=\"#000000\" rx=\"3\" ry=\"3\" style=\"stroke:#000000;stroke-width:1.0;\"/><text fill=\"#000000\" font-family=\"sans-serif\" font-size=\"14\" lengthAdjust=\"spacing\" textLength=\"171\" x=\"27\" y=\"196.9951\">customer_id : text «PK»</text><ellipse cx=\"18\" cy=\"209.9453\" fill=\"#000000\" rx=\"3\" ry=\"3\" style=\"stroke:#000000;stroke-width:1.0;\"/><text fill=\"#000000\" font-family=\"sans-serif\" font-size=\"14\" lengthAdjust=\"spacing\" textLength=\"125\" x=\"27\" y=\"213.292\">order_date : date</text><ellipse cx=\"18\" cy=\"226.2422\" fill=\"#000000\" rx=\"3\" ry=\"3\" style=\"stroke:#000000;stroke-width:1.0;\"/><text fill=\"#000000\" font-family=\"sans-serif\" font-size=\"14\" lengthAdjust=\"spacing\" textLength=\"184\" x=\"27\" y=\"229.5889\">product_id : number «FK»</text><line style=\"stroke:#181818;stroke-width:0.5;\" x1=\"8\" x2=\"216\" y1=\"236.8906\" y2=\"236.8906\"/></g><!--class menu--><g id=\"elem_menu\"><rect codeLine=\"7\" fill=\"#F1F1F1\" height=\"96.8906\" id=\"menu\" rx=\"2.5\" ry=\"2.5\" style=\"stroke:#181818;stroke-width:0.5;\" width=\"211\" x=\"252.5\" y=\"148\"/><ellipse cx=\"333.75\" cy=\"164\" fill=\"#ADD1B2\" rx=\"11\" ry=\"11\" style=\"stroke:#181818;stroke-width:1.0;\"/><path d=\"M332.5469,164.875 L334,164.875 L334,164.9844 C334,165.3906 334.0313,165.5469 334.1094,165.7031 C334.2656,165.9531 334.5469,166.1094 334.8438,166.1094 C335.0938,166.1094 335.3594,165.9688 335.5156,165.75 C335.6406,165.5938 335.6719,165.4375 335.6719,164.9844 L335.6719,163.0625 C335.6719,162.9063 335.6719,162.8594 335.6563,162.7031 C335.5938,162.2344 335.2813,161.9219 334.8281,161.9219 C334.5781,161.9219 334.3125,162.0625 334.1406,162.2813 C334.0313,162.4531 334,162.6094 334,163.0625 L334,163.1875 L332.5469,163.1875 L332.5469,160.7813 L336.5313,160.7813 L336.5313,161.6406 C336.5313,162.0469 336.5625,162.2188 336.6406,162.375 C336.8125,162.625 337.0938,162.7813 337.375,162.7813 C337.6406,162.7813 337.9063,162.6406 338.0781,162.4219 C338.1875,162.25 338.2188,162.1094 338.2188,161.6406 L338.2188,159.0938 L330.5938,159.0938 C330.1563,159.0938 330.0313,159.1094 329.875,159.2031 C329.625,159.3594 329.4688,159.6563 329.4688,159.9375 C329.4688,160.2188 329.6094,160.4688 329.8281,160.6406 C329.9844,160.75 330.1719,160.7813 330.5938,160.7813 L330.8438,160.7813 L330.8438,167.2969 L330.5938,167.2969 C330.1875,167.2969 330.0313,167.3125 329.875,167.4219 C329.625,167.5938 329.4688,167.8594 329.4688,168.1563 C329.4688,168.4219 329.6094,168.6719 329.8281,168.8281 C329.9688,168.9531 330.2031,169 330.5938,169 L338.5938,169 L338.5938,166.4219 C338.5938,165.9844 338.5625,165.8438 338.4844,165.6875 C338.3125,165.4375 338.0313,165.2813 337.75,165.2813 C337.4844,165.2813 337.2188,165.3906 337.0469,165.6406 C336.9375,165.7969 336.9063,165.9375 336.9063,166.4219 L336.9063,167.2969 L332.5469,167.2969 L332.5469,164.875 Z \" fill=\"#000000\"/><text fill=\"#000000\" font-family=\"sans-serif\" font-size=\"14\" lengthAdjust=\"spacing\" textLength=\"40\" x=\"354.25\" y=\"168.8467\">menu</text><line style=\"stroke:#181818;stroke-width:0.5;\" x1=\"253.5\" x2=\"462.5\" y1=\"180\" y2=\"180\"/><ellipse cx=\"263.5\" cy=\"193.6484\" fill=\"#000000\" rx=\"3\" ry=\"3\" style=\"stroke:#000000;stroke-width:1.0;\"/><text fill=\"#000000\" font-family=\"sans-serif\" font-size=\"14\" lengthAdjust=\"spacing\" textLength=\"185\" x=\"272.5\" y=\"196.9951\">product_id : number «PK»</text><ellipse cx=\"263.5\" cy=\"209.9453\" fill=\"#000000\" rx=\"3\" ry=\"3\" style=\"stroke:#000000;stroke-width:1.0;\"/><text fill=\"#000000\" font-family=\"sans-serif\" font-size=\"14\" lengthAdjust=\"spacing\" textLength=\"148\" x=\"272.5\" y=\"213.292\">product_name : text</text><ellipse cx=\"263.5\" cy=\"226.2422\" fill=\"#000000\" rx=\"3\" ry=\"3\" style=\"stroke:#000000;stroke-width:1.0;\"/><text fill=\"#000000\" font-family=\"sans-serif\" font-size=\"14\" lengthAdjust=\"spacing\" textLength=\"106\" x=\"272.5\" y=\"229.5889\">price : number</text><line style=\"stroke:#181818;stroke-width:0.5;\" x1=\"253.5\" x2=\"462.5\" y1=\"236.8906\" y2=\"236.8906\"/></g><!--class members--><g id=\"elem_members\"><rect codeLine=\"13\" fill=\"#F1F1F1\" height=\"80.5938\" id=\"members\" rx=\"2.5\" ry=\"2.5\" style=\"stroke:#181818;stroke-width:0.5;\" width=\"197\" x=\"13.5\" y=\"7\"/><ellipse cx=\"73.25\" cy=\"23\" fill=\"#ADD1B2\" rx=\"11\" ry=\"11\" style=\"stroke:#181818;stroke-width:1.0;\"/><path d=\"M72.0469,23.875 L73.5,23.875 L73.5,23.9844 C73.5,24.3906 73.5313,24.5469 73.6094,24.7031 C73.7656,24.9531 74.0469,25.1094 74.3438,25.1094 C74.5938,25.1094 74.8594,24.9688 75.0156,24.75 C75.1406,24.5938 75.1719,24.4375 75.1719,23.9844 L75.1719,22.0625 C75.1719,21.9063 75.1719,21.8594 75.1563,21.7031 C75.0938,21.2344 74.7813,20.9219 74.3281,20.9219 C74.0781,20.9219 73.8125,21.0625 73.6406,21.2813 C73.5313,21.4531 73.5,21.6094 73.5,22.0625 L73.5,22.1875 L72.0469,22.1875 L72.0469,19.7813 L76.0313,19.7813 L76.0313,20.6406 C76.0313,21.0469 76.0625,21.2188 76.1406,21.375 C76.3125,21.625 76.5938,21.7813 76.875,21.7813 C77.1406,21.7813 77.4063,21.6406 77.5781,21.4219 C77.6875,21.25 77.7188,21.1094 77.7188,20.6406 L77.7188,18.0938 L70.0938,18.0938 C69.6563,18.0938 69.5313,18.1094 69.375,18.2031 C69.125,18.3594 68.9688,18.6563 68.9688,18.9375 C68.9688,19.2188 69.1094,19.4688 69.3281,19.6406 C69.4844,19.75 69.6719,19.7813 70.0938,19.7813 L70.3438,19.7813 L70.3438,26.2969 L70.0938,26.2969 C69.6875,26.2969 69.5313,26.3125 69.375,26.4219 C69.125,26.5938 68.9688,26.8594 68.9688,27.1563 C68.9688,27.4219 69.1094,27.6719 69.3281,27.8281 C69.4688,27.9531 69.7031,28 70.0938,28 L78.0938,28 L78.0938,25.4219 C78.0938,24.9844 78.0625,24.8438 77.9844,24.6875 C77.8125,24.4375 77.5313,24.2813 77.25,24.2813 C76.9844,24.2813 76.7188,24.3906 76.5469,24.6406 C76.4375,24.7969 76.4063,24.9375 76.4063,25.4219 L76.4063,26.2969 L72.0469,26.2969 L72.0469,23.875 Z \" fill=\"#000000\"/><text fill=\"#000000\" font-family=\"sans-serif\" font-size=\"14\" lengthAdjust=\"spacing\" textLength=\"69\" x=\"93.75\" y=\"27.8467\">members</text><line style=\"stroke:#181818;stroke-width:0.5;\" x1=\"14.5\" x2=\"209.5\" y1=\"39\" y2=\"39\"/><ellipse cx=\"24.5\" cy=\"52.6484\" fill=\"#000000\" rx=\"3\" ry=\"3\" style=\"stroke:#000000;stroke-width:1.0;\"/><text fill=\"#000000\" font-family=\"sans-serif\" font-size=\"14\" lengthAdjust=\"spacing\" textLength=\"171\" x=\"33.5\" y=\"55.9951\">customer_id : text «PK»</text><ellipse cx=\"24.5\" cy=\"68.9453\" fill=\"#000000\" rx=\"3\" ry=\"3\" style=\"stroke:#000000;stroke-width:1.0;\"/><text fill=\"#000000\" font-family=\"sans-serif\" font-size=\"14\" lengthAdjust=\"spacing\" textLength=\"112\" x=\"33.5\" y=\"72.292\">join_date : date</text><line style=\"stroke:#181818;stroke-width:0.5;\" x1=\"14.5\" x2=\"209.5\" y1=\"79.5938\" y2=\"79.5938\"/></g><!--link sales to menu--><g id=\"link_sales_menu\"><path codeLine=\"18\" d=\"M225.471,196.5 C231.646,196.5 237.821,196.5 243.996,196.5 \" fill=\"none\" id=\"sales-menu\" style=\"stroke:#181818;stroke-width:1.0;stroke-dasharray:7.0,7.0;\"/><line style=\"stroke:#181818;stroke-width:1.0;\" x1=\"225.223\" x2=\"217.223\" y1=\"196.5\" y2=\"204.5\"/><line style=\"stroke:#181818;stroke-width:1.0;\" x1=\"225.223\" x2=\"217.223\" y1=\"196.5\" y2=\"188.5\"/><line style=\"stroke:#181818;stroke-width:1.0;\" x1=\"225.223\" x2=\"217.223\" y1=\"196.5\" y2=\"196.5\"/><line style=\"stroke:#181818;stroke-width:1.0;\" x1=\"248.417\" x2=\"248.417\" y1=\"192.5\" y2=\"200.5\"/><line style=\"stroke:#181818;stroke-width:1.0;\" x1=\"245.417\" x2=\"245.417\" y1=\"192.5\" y2=\"200.5\"/><line style=\"stroke:#181818;stroke-width:1.0;\" x1=\"244.417\" x2=\"252.417\" y1=\"196.5\" y2=\"196.5\"/></g><!--link members to sales--><g id=\"link_members_sales\"><path codeLine=\"19\" d=\"M112,96.675 C112,110.409 112,125.486 112,139.636 \" fill=\"none\" id=\"members-sales\" style=\"stroke:#181818;stroke-width:1.0;stroke-dasharray:7.0,7.0;\"/><line style=\"stroke:#181818;stroke-width:1.0;\" x1=\"112\" x2=\"112\" y1=\"99.28\" y2=\"88.28\"/><ellipse cx=\"112\" cy=\"99.28\" fill=\"none\" rx=\"4\" ry=\"4\" style=\"stroke:#181818;stroke-width:1.0;\"/><line style=\"stroke:#181818;stroke-width:1.0;\" x1=\"108\" x2=\"116\" y1=\"92.28\" y2=\"92.28\"/><line style=\"stroke:#181818;stroke-width:1.0;\" x1=\"112\" x2=\"120\" y1=\"139.8431\" y2=\"147.8431\"/><line style=\"stroke:#181818;stroke-width:1.0;\" x1=\"112\" x2=\"104\" y1=\"139.8431\" y2=\"147.8431\"/><line style=\"stroke:#181818;stroke-width:1.0;\" x1=\"112\" x2=\"112\" y1=\"139.8431\" y2=\"147.8431\"/></g><!--SRC=[ZP0z3W8X48LxJZ6r1GSmcorjRBo1GHWJp086XaIpU7T1Vk8c5av3yXxVl9b1IvgU4CI20LO6kNOWOo1dq9-rWZqGFWYcwNISv-OxhxAf166sozFqktSgIggOZUQ2FeE70huOmnfbqCQHz9luYkeVh33OPXcEbZYeJK0H_j_cvhJTB9DRVOPCYIzu9RxMyx3UE3dUjJS0]--></g></svg>",
      "text/plain": [
       "<IPython.core.display.SVG object>"
      ]
     },
     "execution_count": 72,
     "metadata": {},
     "output_type": "execute_result"
    }
   ],
   "source": [
    "%%plantuml \n",
    "\n",
    "@startuml\n",
    "\n",
    "entity sales {\n",
    "    * customer_id : text <<PK>>\n",
    "    * order_date : date\n",
    "    * product_id : number <<FK>>\n",
    "}\n",
    "\n",
    "entity menu {\n",
    "    * product_id : number <<PK>>\n",
    "    * product_name : text\n",
    "    * price : number\n",
    "}\n",
    "\n",
    "entity members {\n",
    "    * customer_id : text <<PK>>\n",
    "    * join_date : date\n",
    "}\n",
    "\n",
    "menu ||.left.{ sales\n",
    "members |o..{ sales\n",
    "\n",
    "@enduml"
   ]
  },
  {
   "cell_type": "code",
   "execution_count": null,
   "metadata": {},
   "outputs": [
    {
     "name": "stdout",
     "output_type": "stream",
     "text": [
      " * sqlite:///dannys_diner.db\n",
      "(sqlite3.OperationalError) table sales already exists\n",
      "[SQL: CREATE TABLE sales (\n",
      "  \"customer_id\" VARCHAR(1),\n",
      "  \"order_date\" DATE,\n",
      "  \"product_id\" INTEGER\n",
      ");]\n",
      "(Background on this error at: https://sqlalche.me/e/20/e3q8)\n"
     ]
    }
   ],
   "source": [
    "%%sql\n",
    "\n",
    "CREATE TABLE sales (\n",
    "  \"customer_id\" VARCHAR(1),\n",
    "  \"order_date\" DATE,\n",
    "  \"product_id\" INTEGER\n",
    ");\n",
    "\n",
    "INSERT INTO sales\n",
    "  (\"customer_id\", \"order_date\", \"product_id\")\n",
    "VALUES\n",
    "  ('A', '2021-01-01', '1'),\n",
    "  ('A', '2021-01-01', '2'),\n",
    "  ('A', '2021-01-07', '2'),\n",
    "  ('A', '2021-01-10', '3'),\n",
    "  ('A', '2021-01-11', '3'),\n",
    "  ('A', '2021-01-11', '3'),\n",
    "  ('B', '2021-01-01', '2'),\n",
    "  ('B', '2021-01-02', '2'),\n",
    "  ('B', '2021-01-04', '1'),\n",
    "  ('B', '2021-01-11', '1'),\n",
    "  ('B', '2021-01-16', '3'),\n",
    "  ('B', '2021-02-01', '3'),\n",
    "  ('C', '2021-01-01', '3'),\n",
    "  ('C', '2021-01-01', '3'),\n",
    "  ('C', '2021-01-07', '3');\n",
    " \n",
    "\n",
    "CREATE TABLE menu (\n",
    "  \"product_id\" INTEGER,\n",
    "  \"product_name\" VARCHAR(5),\n",
    "  \"price\" INTEGER\n",
    ");\n",
    "\n",
    "INSERT INTO menu\n",
    "  (\"product_id\", \"product_name\", \"price\")\n",
    "VALUES\n",
    "  ('1', 'sushi', '10'),\n",
    "  ('2', 'curry', '15'),\n",
    "  ('3', 'ramen', '12');\n",
    "  \n",
    "\n",
    "CREATE TABLE members (\n",
    "  \"customer_id\" VARCHAR(1),\n",
    "  \"join_date\" DATE\n",
    ");\n",
    "\n",
    "INSERT INTO members\n",
    "  (\"customer_id\", \"join_date\")\n",
    "VALUES\n",
    "  ('A', '2021-01-07'),\n",
    "  ('B', '2021-01-09');"
   ]
  },
  {
   "cell_type": "markdown",
   "metadata": {},
   "source": [
    "# Solution"
   ]
  },
  {
   "cell_type": "markdown",
   "metadata": {},
   "source": [
    "## What is the total amount each customer spent at the restaurant?"
   ]
  },
  {
   "cell_type": "code",
   "execution_count": 74,
   "metadata": {},
   "outputs": [
    {
     "name": "stdout",
     "output_type": "stream",
     "text": [
      " * sqlite:///dannys_diner.db\n",
      "Done.\n"
     ]
    },
    {
     "data": {
      "text/html": [
       "<table>\n",
       "    <thead>\n",
       "        <tr>\n",
       "            <th>customer_id</th>\n",
       "            <th>total_amount</th>\n",
       "        </tr>\n",
       "    </thead>\n",
       "    <tbody>\n",
       "        <tr>\n",
       "            <td>A</td>\n",
       "            <td>76</td>\n",
       "        </tr>\n",
       "        <tr>\n",
       "            <td>B</td>\n",
       "            <td>74</td>\n",
       "        </tr>\n",
       "        <tr>\n",
       "            <td>C</td>\n",
       "            <td>36</td>\n",
       "        </tr>\n",
       "    </tbody>\n",
       "</table>"
      ],
      "text/plain": [
       "[('A', 76), ('B', 74), ('C', 36)]"
      ]
     },
     "execution_count": 74,
     "metadata": {},
     "output_type": "execute_result"
    }
   ],
   "source": [
    "%%sql\n",
    "\n",
    "SELECT\n",
    "    customer_id\n",
    "    , SUM(price) AS total_amount\n",
    "FROM\n",
    "    sales AS s\n",
    "LEFT JOIN menu AS m ON s.product_id = m.product_id\n",
    "GROUP BY \n",
    "    customer_id\n",
    "    "
   ]
  },
  {
   "cell_type": "code",
   "execution_count": null,
   "metadata": {},
   "outputs": [],
   "source": []
  }
 ],
 "metadata": {
  "kernelspec": {
   "display_name": "Python 3.11.0 64-bit",
   "language": "python",
   "name": "python3"
  },
  "language_info": {
   "codemirror_mode": {
    "name": "ipython",
    "version": 3
   },
   "file_extension": ".py",
   "mimetype": "text/x-python",
   "name": "python",
   "nbconvert_exporter": "python",
   "pygments_lexer": "ipython3",
   "version": "3.11.0"
  },
  "orig_nbformat": 4,
  "vscode": {
   "interpreter": {
    "hash": "aee8b7b246df8f9039afb4144a1f6fd8d2ca17a180786b69acc140d282b71a49"
   }
  }
 },
 "nbformat": 4,
 "nbformat_minor": 2
}
