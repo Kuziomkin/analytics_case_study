{
 "cells": [
  {
   "cell_type": "markdown",
   "metadata": {},
   "source": [
    "# Introduction\n",
    "\n",
    "Danny seriously loves Japanese food so in the beginning of 2021, he decides to embark upon a risky venture and opens up a cute little restaurant that sells his 3 favourite foods: sushi, curry and ramen.\n",
    "\n",
    "Danny’s Diner is in need of your assistance to help the restaurant stay afloat - the restaurant has captured some very basic data from their few months of operation but have no idea how to use their data to help them run the business."
   ]
  },
  {
   "cell_type": "markdown",
   "metadata": {},
   "source": [
    "## Problem Statement\n",
    "Danny wants to use the data to answer a few simple questions about his customers, especially about their visiting patterns, how much money they’ve spent and also which menu items are their favourite. Having this deeper connection with his customers will help him deliver a better and more personalised experience for his loyal customers.\n",
    "\n",
    "He plans on using these insights to help him decide whether he should expand the existing customer loyalty program - additionally he needs help to generate some basic datasets so his team can easily inspect the data without needing to use SQL.\n",
    "\n",
    "Danny has provided you with a sample of his overall customer data due to privacy issues - but he hopes that these examples are enough for you to write fully functioning SQL queries to help him answer his questions!\n",
    "\n",
    "Danny has shared with you 3 key datasets for this case study:\n",
    "\n",
    "- sales\n",
    "- menu\n",
    "- members\n"
   ]
  },
  {
   "cell_type": "markdown",
   "metadata": {},
   "source": [
    "## Case Study Questions\n",
    "Each of the following case study questions can be answered using a single SQL statement:\n",
    "\n",
    "1. What is the total amount each customer spent at the restaurant?\n",
    "2. How many days has each customer visited the restaurant?\n",
    "3. What was the first item from the menu purchased by each customer?\n",
    "4. What is the most purchased item on the menu and how many times was it purchased by all customers?\n",
    "5. Which item was the most popular for each customer?\n",
    "6. Which item was purchased first by the customer after they became a member?\n",
    "7. Which item was purchased just before the customer became a member?\n",
    "8. What is the total items and amount spent for each member before they became a member?\n",
    "9. If each $1 spent equates to 10 points and sushi has a 2x points multiplier - how many points would each customer have?\n",
    "10. In the first week after a customer joins the program (including their join date) they earn 2x points on all items, not just sushi - how many points do customer A and B have at the end of January?"
   ]
  },
  {
   "cell_type": "markdown",
   "metadata": {},
   "source": [
    "# Preparation"
   ]
  },
  {
   "cell_type": "markdown",
   "metadata": {},
   "source": [
    "## Import libraries and setup dependencies"
   ]
  },
  {
   "cell_type": "code",
   "execution_count": 51,
   "metadata": {},
   "outputs": [],
   "source": [
    "import iplantuml"
   ]
  },
  {
   "cell_type": "code",
   "execution_count": 52,
   "metadata": {},
   "outputs": [
    {
     "name": "stdout",
     "output_type": "stream",
     "text": [
      "The sql extension is already loaded. To reload it, use:\n",
      "  %reload_ext sql\n"
     ]
    }
   ],
   "source": [
    "%load_ext sql"
   ]
  },
  {
   "cell_type": "code",
   "execution_count": 53,
   "metadata": {},
   "outputs": [],
   "source": [
    "%sql sqlite:///dannys_diner.db"
   ]
  },
  {
   "cell_type": "markdown",
   "metadata": {},
   "source": [
    "## Entity relationship diagram"
   ]
  },
  {
   "cell_type": "code",
   "execution_count": 85,
   "metadata": {},
   "outputs": [
    {
     "name": "stdout",
     "output_type": "stream",
     "text": [
      "Writing output for /Users/dzianiskuziomkin/Repositories/case_study_1/1d3a6cec-f2ee-45a1-a3da-e32ad1ed14af.uml to 1d3a6cec-f2ee-45a1-a3da-e32ad1ed14af.svg\n"
     ]
    },
    {
     "data": {
      "image/svg+xml": "<svg xmlns=\"http://www.w3.org/2000/svg\" xmlns:xlink=\"http://www.w3.org/1999/xlink\" contentStyleType=\"text/css\" height=\"300px\" preserveAspectRatio=\"none\" style=\"width:483px;height:300px;background:#FFFFFF;\" version=\"1.1\" viewBox=\"0 0 483 300\" width=\"483px\" zoomAndPan=\"magnify\"><defs/><g><!--class sales--><g id=\"elem_sales\"><rect codeLine=\"1\" fill=\"#F1F1F1\" height=\"129.4844\" id=\"sales\" rx=\"2.5\" ry=\"2.5\" style=\"stroke:#181818;stroke-width:0.5;\" width=\"219\" x=\"7\" y=\"164\"/><ellipse cx=\"94.75\" cy=\"180\" fill=\"#ADD1B2\" rx=\"11\" ry=\"11\" style=\"stroke:#181818;stroke-width:1.0;\"/><path d=\"M93.5469,180.875 L95,180.875 L95,180.9844 C95,181.3906 95.0313,181.5469 95.1094,181.7031 C95.2656,181.9531 95.5469,182.1094 95.8438,182.1094 C96.0938,182.1094 96.3594,181.9688 96.5156,181.75 C96.6406,181.5938 96.6719,181.4375 96.6719,180.9844 L96.6719,179.0625 C96.6719,178.9063 96.6719,178.8594 96.6563,178.7031 C96.5938,178.2344 96.2813,177.9219 95.8281,177.9219 C95.5781,177.9219 95.3125,178.0625 95.1406,178.2813 C95.0313,178.4531 95,178.6094 95,179.0625 L95,179.1875 L93.5469,179.1875 L93.5469,176.7813 L97.5313,176.7813 L97.5313,177.6406 C97.5313,178.0469 97.5625,178.2188 97.6406,178.375 C97.8125,178.625 98.0938,178.7813 98.375,178.7813 C98.6406,178.7813 98.9063,178.6406 99.0781,178.4219 C99.1875,178.25 99.2188,178.1094 99.2188,177.6406 L99.2188,175.0938 L91.5938,175.0938 C91.1563,175.0938 91.0313,175.1094 90.875,175.2031 C90.625,175.3594 90.4688,175.6563 90.4688,175.9375 C90.4688,176.2188 90.6094,176.4688 90.8281,176.6406 C90.9844,176.75 91.1719,176.7813 91.5938,176.7813 L91.8438,176.7813 L91.8438,183.2969 L91.5938,183.2969 C91.1875,183.2969 91.0313,183.3125 90.875,183.4219 C90.625,183.5938 90.4688,183.8594 90.4688,184.1563 C90.4688,184.4219 90.6094,184.6719 90.8281,184.8281 C90.9688,184.9531 91.2031,185 91.5938,185 L99.5938,185 L99.5938,182.4219 C99.5938,181.9844 99.5625,181.8438 99.4844,181.6875 C99.3125,181.4375 99.0313,181.2813 98.75,181.2813 C98.4844,181.2813 98.2188,181.3906 98.0469,181.6406 C97.9375,181.7969 97.9063,181.9375 97.9063,182.4219 L97.9063,183.2969 L93.5469,183.2969 L93.5469,180.875 Z \" fill=\"#000000\"/><text fill=\"#000000\" font-family=\"sans-serif\" font-size=\"14\" lengthAdjust=\"spacing\" textLength=\"35\" x=\"115.25\" y=\"184.8467\">sales</text><line style=\"stroke:#181818;stroke-width:0.5;\" x1=\"8\" x2=\"225\" y1=\"196\" y2=\"196\"/><ellipse cx=\"18\" cy=\"209.6484\" fill=\"#000000\" rx=\"3\" ry=\"3\" style=\"stroke:#000000;stroke-width:1.0;\"/><text fill=\"#000000\" font-family=\"sans-serif\" font-size=\"14\" lengthAdjust=\"spacing\" textLength=\"173\" x=\"27\" y=\"212.9951\">customer_id : varchar(1)</text><ellipse cx=\"18\" cy=\"225.9453\" fill=\"#000000\" rx=\"3\" ry=\"3\" style=\"stroke:#000000;stroke-width:1.0;\"/><text fill=\"#000000\" font-family=\"sans-serif\" font-size=\"14\" lengthAdjust=\"spacing\" textLength=\"125\" x=\"27\" y=\"229.292\">order_date : date</text><ellipse cx=\"18\" cy=\"242.2422\" fill=\"#000000\" rx=\"3\" ry=\"3\" style=\"stroke:#000000;stroke-width:1.0;\"/><text fill=\"#000000\" font-family=\"sans-serif\" font-size=\"14\" lengthAdjust=\"spacing\" textLength=\"143\" x=\"27\" y=\"245.5889\">product_id : integer</text><line style=\"stroke:#181818;stroke-width:1.0;\" x1=\"8\" x2=\"225\" y1=\"252.8906\" y2=\"252.8906\"/><ellipse cx=\"18\" cy=\"266.5391\" fill=\"#000000\" rx=\"3\" ry=\"3\" style=\"stroke:#000000;stroke-width:1.0;\"/><text fill=\"#000000\" font-family=\"sans-serif\" font-size=\"14\" lengthAdjust=\"spacing\" textLength=\"193\" x=\"27\" y=\"269.8857\">FK(customer_id, members)</text><ellipse cx=\"18\" cy=\"282.8359\" fill=\"#000000\" rx=\"3\" ry=\"3\" style=\"stroke:#000000;stroke-width:1.0;\"/><text fill=\"#000000\" font-family=\"sans-serif\" font-size=\"14\" lengthAdjust=\"spacing\" textLength=\"153\" x=\"27\" y=\"286.1826\">FK(product_id, menu)</text></g><!--class menu--><g id=\"elem_menu\"><rect codeLine=\"10\" fill=\"#F1F1F1\" height=\"113.1875\" id=\"menu\" rx=\"2.5\" ry=\"2.5\" style=\"stroke:#181818;stroke-width:0.5;\" width=\"215\" x=\"261\" y=\"172\"/><ellipse cx=\"344.25\" cy=\"188\" fill=\"#ADD1B2\" rx=\"11\" ry=\"11\" style=\"stroke:#181818;stroke-width:1.0;\"/><path d=\"M343.0469,188.875 L344.5,188.875 L344.5,188.9844 C344.5,189.3906 344.5313,189.5469 344.6094,189.7031 C344.7656,189.9531 345.0469,190.1094 345.3438,190.1094 C345.5938,190.1094 345.8594,189.9688 346.0156,189.75 C346.1406,189.5938 346.1719,189.4375 346.1719,188.9844 L346.1719,187.0625 C346.1719,186.9063 346.1719,186.8594 346.1563,186.7031 C346.0938,186.2344 345.7813,185.9219 345.3281,185.9219 C345.0781,185.9219 344.8125,186.0625 344.6406,186.2813 C344.5313,186.4531 344.5,186.6094 344.5,187.0625 L344.5,187.1875 L343.0469,187.1875 L343.0469,184.7813 L347.0313,184.7813 L347.0313,185.6406 C347.0313,186.0469 347.0625,186.2188 347.1406,186.375 C347.3125,186.625 347.5938,186.7813 347.875,186.7813 C348.1406,186.7813 348.4063,186.6406 348.5781,186.4219 C348.6875,186.25 348.7188,186.1094 348.7188,185.6406 L348.7188,183.0938 L341.0938,183.0938 C340.6563,183.0938 340.5313,183.1094 340.375,183.2031 C340.125,183.3594 339.9688,183.6563 339.9688,183.9375 C339.9688,184.2188 340.1094,184.4688 340.3281,184.6406 C340.4844,184.75 340.6719,184.7813 341.0938,184.7813 L341.3438,184.7813 L341.3438,191.2969 L341.0938,191.2969 C340.6875,191.2969 340.5313,191.3125 340.375,191.4219 C340.125,191.5938 339.9688,191.8594 339.9688,192.1563 C339.9688,192.4219 340.1094,192.6719 340.3281,192.8281 C340.4688,192.9531 340.7031,193 341.0938,193 L349.0938,193 L349.0938,190.4219 C349.0938,189.9844 349.0625,189.8438 348.9844,189.6875 C348.8125,189.4375 348.5313,189.2813 348.25,189.2813 C347.9844,189.2813 347.7188,189.3906 347.5469,189.6406 C347.4375,189.7969 347.4063,189.9375 347.4063,190.4219 L347.4063,191.2969 L343.0469,191.2969 L343.0469,188.875 Z \" fill=\"#000000\"/><text fill=\"#000000\" font-family=\"sans-serif\" font-size=\"14\" lengthAdjust=\"spacing\" textLength=\"40\" x=\"364.75\" y=\"192.8467\">menu</text><line style=\"stroke:#181818;stroke-width:0.5;\" x1=\"262\" x2=\"475\" y1=\"204\" y2=\"204\"/><ellipse cx=\"272\" cy=\"217.6484\" fill=\"#000000\" rx=\"3\" ry=\"3\" style=\"stroke:#000000;stroke-width:1.0;\"/><text fill=\"#000000\" font-family=\"sans-serif\" font-size=\"14\" lengthAdjust=\"spacing\" textLength=\"143\" x=\"281\" y=\"220.9951\">product_id : integer</text><ellipse cx=\"272\" cy=\"233.9453\" fill=\"#000000\" rx=\"3\" ry=\"3\" style=\"stroke:#000000;stroke-width:1.0;\"/><text fill=\"#000000\" font-family=\"sans-serif\" font-size=\"14\" lengthAdjust=\"spacing\" textLength=\"189\" x=\"281\" y=\"237.292\">product_name : varchar(5)</text><ellipse cx=\"272\" cy=\"250.2422\" fill=\"#000000\" rx=\"3\" ry=\"3\" style=\"stroke:#000000;stroke-width:1.0;\"/><text fill=\"#000000\" font-family=\"sans-serif\" font-size=\"14\" lengthAdjust=\"spacing\" textLength=\"103\" x=\"281\" y=\"253.5889\">price : integer</text><line style=\"stroke:#181818;stroke-width:1.0;\" x1=\"262\" x2=\"475\" y1=\"260.8906\" y2=\"260.8906\"/><ellipse cx=\"272\" cy=\"274.5391\" fill=\"#000000\" rx=\"3\" ry=\"3\" style=\"stroke:#000000;stroke-width:1.0;\"/><text fill=\"#000000\" font-family=\"sans-serif\" font-size=\"14\" lengthAdjust=\"spacing\" textLength=\"106\" x=\"281\" y=\"277.8857\">PK(product_id)</text></g><!--class members--><g id=\"elem_members\"><rect codeLine=\"18\" fill=\"#F1F1F1\" height=\"96.8906\" id=\"members\" rx=\"2.5\" ry=\"2.5\" style=\"stroke:#181818;stroke-width:0.5;\" width=\"199\" x=\"17\" y=\"7\"/><ellipse cx=\"77.75\" cy=\"23\" fill=\"#ADD1B2\" rx=\"11\" ry=\"11\" style=\"stroke:#181818;stroke-width:1.0;\"/><path d=\"M76.5469,23.875 L78,23.875 L78,23.9844 C78,24.3906 78.0313,24.5469 78.1094,24.7031 C78.2656,24.9531 78.5469,25.1094 78.8438,25.1094 C79.0938,25.1094 79.3594,24.9688 79.5156,24.75 C79.6406,24.5938 79.6719,24.4375 79.6719,23.9844 L79.6719,22.0625 C79.6719,21.9063 79.6719,21.8594 79.6563,21.7031 C79.5938,21.2344 79.2813,20.9219 78.8281,20.9219 C78.5781,20.9219 78.3125,21.0625 78.1406,21.2813 C78.0313,21.4531 78,21.6094 78,22.0625 L78,22.1875 L76.5469,22.1875 L76.5469,19.7813 L80.5313,19.7813 L80.5313,20.6406 C80.5313,21.0469 80.5625,21.2188 80.6406,21.375 C80.8125,21.625 81.0938,21.7813 81.375,21.7813 C81.6406,21.7813 81.9063,21.6406 82.0781,21.4219 C82.1875,21.25 82.2188,21.1094 82.2188,20.6406 L82.2188,18.0938 L74.5938,18.0938 C74.1563,18.0938 74.0313,18.1094 73.875,18.2031 C73.625,18.3594 73.4688,18.6563 73.4688,18.9375 C73.4688,19.2188 73.6094,19.4688 73.8281,19.6406 C73.9844,19.75 74.1719,19.7813 74.5938,19.7813 L74.8438,19.7813 L74.8438,26.2969 L74.5938,26.2969 C74.1875,26.2969 74.0313,26.3125 73.875,26.4219 C73.625,26.5938 73.4688,26.8594 73.4688,27.1563 C73.4688,27.4219 73.6094,27.6719 73.8281,27.8281 C73.9688,27.9531 74.2031,28 74.5938,28 L82.5938,28 L82.5938,25.4219 C82.5938,24.9844 82.5625,24.8438 82.4844,24.6875 C82.3125,24.4375 82.0313,24.2813 81.75,24.2813 C81.4844,24.2813 81.2188,24.3906 81.0469,24.6406 C80.9375,24.7969 80.9063,24.9375 80.9063,25.4219 L80.9063,26.2969 L76.5469,26.2969 L76.5469,23.875 Z \" fill=\"#000000\"/><text fill=\"#000000\" font-family=\"sans-serif\" font-size=\"14\" lengthAdjust=\"spacing\" textLength=\"69\" x=\"98.25\" y=\"27.8467\">members</text><line style=\"stroke:#181818;stroke-width:0.5;\" x1=\"18\" x2=\"215\" y1=\"39\" y2=\"39\"/><ellipse cx=\"28\" cy=\"52.6484\" fill=\"#000000\" rx=\"3\" ry=\"3\" style=\"stroke:#000000;stroke-width:1.0;\"/><text fill=\"#000000\" font-family=\"sans-serif\" font-size=\"14\" lengthAdjust=\"spacing\" textLength=\"173\" x=\"37\" y=\"55.9951\">customer_id : varchar(1)</text><ellipse cx=\"28\" cy=\"68.9453\" fill=\"#000000\" rx=\"3\" ry=\"3\" style=\"stroke:#000000;stroke-width:1.0;\"/><text fill=\"#000000\" font-family=\"sans-serif\" font-size=\"14\" lengthAdjust=\"spacing\" textLength=\"112\" x=\"37\" y=\"72.292\">join_date : date</text><line style=\"stroke:#181818;stroke-width:1.0;\" x1=\"18\" x2=\"215\" y1=\"79.5938\" y2=\"79.5938\"/><ellipse cx=\"28\" cy=\"93.2422\" fill=\"#000000\" rx=\"3\" ry=\"3\" style=\"stroke:#000000;stroke-width:1.0;\"/><text fill=\"#000000\" font-family=\"sans-serif\" font-size=\"14\" lengthAdjust=\"spacing\" textLength=\"117\" x=\"37\" y=\"96.5889\">PK(customer_id)</text></g><!--link sales to menu--><g id=\"link_sales_menu\"><path codeLine=\"25\" d=\"M234.397,228.5 C240.49,228.5 246.583,228.5 252.676,228.5 \" fill=\"none\" id=\"sales-menu\" style=\"stroke:#181818;stroke-width:1.0;stroke-dasharray:7.0,7.0;\"/><line style=\"stroke:#181818;stroke-width:1.0;\" x1=\"234.258\" x2=\"226.258\" y1=\"228.5\" y2=\"236.5\"/><line style=\"stroke:#181818;stroke-width:1.0;\" x1=\"234.258\" x2=\"226.258\" y1=\"228.5\" y2=\"220.5\"/><line style=\"stroke:#181818;stroke-width:1.0;\" x1=\"234.258\" x2=\"226.258\" y1=\"228.5\" y2=\"228.5\"/><line style=\"stroke:#181818;stroke-width:1.0;\" x1=\"256.985\" x2=\"256.985\" y1=\"224.5\" y2=\"232.5\"/><line style=\"stroke:#181818;stroke-width:1.0;\" x1=\"253.985\" x2=\"253.985\" y1=\"224.5\" y2=\"232.5\"/><line style=\"stroke:#181818;stroke-width:1.0;\" x1=\"252.985\" x2=\"260.985\" y1=\"228.5\" y2=\"228.5\"/></g><!--link members to sales--><g id=\"link_members_sales\"><path codeLine=\"26\" d=\"M116.5,112.543 C116.5,126.25 116.5,141.109 116.5,155.449 \" fill=\"none\" id=\"members-sales\" style=\"stroke:#181818;stroke-width:1.0;stroke-dasharray:7.0,7.0;\"/><line style=\"stroke:#181818;stroke-width:1.0;\" x1=\"116.5\" x2=\"116.5\" y1=\"115.133\" y2=\"104.133\"/><ellipse cx=\"116.5\" cy=\"115.133\" fill=\"none\" rx=\"4\" ry=\"4\" style=\"stroke:#181818;stroke-width:1.0;\"/><line style=\"stroke:#181818;stroke-width:1.0;\" x1=\"112.5\" x2=\"120.5\" y1=\"108.133\" y2=\"108.133\"/><line style=\"stroke:#181818;stroke-width:1.0;\" x1=\"116.5\" x2=\"124.5\" y1=\"155.82\" y2=\"163.82\"/><line style=\"stroke:#181818;stroke-width:1.0;\" x1=\"116.5\" x2=\"108.5\" y1=\"155.82\" y2=\"163.82\"/><line style=\"stroke:#181818;stroke-width:1.0;\" x1=\"116.5\" x2=\"116.5\" y1=\"155.82\" y2=\"163.82\"/></g><!--SRC=[ZP5D3i8W48Ntd6AMnLWI5suyW1itti0WZ8efO82QcDQxsz8_Mbt8Pi9ypBmt0vgWmWiyBz13HQ0vAn2b3rQZEoa9EtXo9sxSPHlQO-jamoGFsD0szFc7ix8KeQjI9k0LNKHvdlTFzeSiQRu6ZVgCpjC9JqrQQafAteHWvxAzZoP_gS626QuncM1BHwu4BiicbyVKnjn0jFllekvMcQyzpMII1b4dJbZNhC1BO5NtBMHGhIqRSXy0]--></g></svg>",
      "text/plain": [
       "<IPython.core.display.SVG object>"
      ]
     },
     "execution_count": 85,
     "metadata": {},
     "output_type": "execute_result"
    }
   ],
   "source": [
    "%%plantuml \n",
    "\n",
    "@startuml\n",
    "\n",
    "entity sales {\n",
    "    * customer_id : varchar(1)\n",
    "    * order_date : date\n",
    "    * product_id : integer\n",
    "    ---\n",
    "    * FK(customer_id, members)\n",
    "    * FK(product_id, menu)\n",
    "}\n",
    "\n",
    "entity menu {\n",
    "    * product_id : integer \n",
    "    * product_name : varchar(5)\n",
    "    * price : integer \n",
    "    ---\n",
    "    * PK(product_id)\n",
    "}\n",
    "\n",
    "entity members {\n",
    "    * customer_id : varchar(1)\n",
    "    * join_date : date\n",
    "    ---\n",
    "    * PK(customer_id)\n",
    "}\n",
    "\n",
    "menu ||.left.{ sales\n",
    "members |o..{ sales\n",
    "\n",
    "@enduml"
   ]
  },
  {
   "cell_type": "markdown",
   "metadata": {},
   "source": [
    "## Create and populate schema\n",
    "\n",
    "Create tables:\n",
    "- Sales\n",
    "- Menu\n",
    "- Member\n",
    "\n",
    "And populated tables by values"
   ]
  },
  {
   "cell_type": "code",
   "execution_count": null,
   "metadata": {},
   "outputs": [
    {
     "name": "stdout",
     "output_type": "stream",
     "text": [
      " * sqlite:///dannys_diner.db\n",
      "(sqlite3.OperationalError) table sales already exists\n",
      "[SQL: CREATE TABLE sales (\n",
      "  \"customer_id\" VARCHAR(1),\n",
      "  \"order_date\" DATE,\n",
      "  \"product_id\" INTEGER\n",
      ");]\n",
      "(Background on this error at: https://sqlalche.me/e/20/e3q8)\n"
     ]
    }
   ],
   "source": [
    "%%sql\n",
    "\n",
    "CREATE TABLE sales (\n",
    "  \"customer_id\" VARCHAR(1),\n",
    "  \"order_date\" DATE,\n",
    "  \"product_id\" INTEGER\n",
    ");\n",
    "\n",
    "INSERT INTO sales\n",
    "  (\"customer_id\", \"order_date\", \"product_id\")\n",
    "VALUES\n",
    "  ('A', '2021-01-01', '1'),\n",
    "  ('A', '2021-01-01', '2'),\n",
    "  ('A', '2021-01-07', '2'),\n",
    "  ('A', '2021-01-10', '3'),\n",
    "  ('A', '2021-01-11', '3'),\n",
    "  ('A', '2021-01-11', '3'),\n",
    "  ('B', '2021-01-01', '2'),\n",
    "  ('B', '2021-01-02', '2'),\n",
    "  ('B', '2021-01-04', '1'),\n",
    "  ('B', '2021-01-11', '1'),\n",
    "  ('B', '2021-01-16', '3'),\n",
    "  ('B', '2021-02-01', '3'),\n",
    "  ('C', '2021-01-01', '3'),\n",
    "  ('C', '2021-01-01', '3'),\n",
    "  ('C', '2021-01-07', '3');\n",
    " \n",
    "\n",
    "CREATE TABLE menu (\n",
    "  \"product_id\" INTEGER,\n",
    "  \"product_name\" VARCHAR(5),\n",
    "  \"price\" INTEGER\n",
    ");\n",
    "\n",
    "INSERT INTO menu\n",
    "  (\"product_id\", \"product_name\", \"price\")\n",
    "VALUES\n",
    "  ('1', 'sushi', '10'),\n",
    "  ('2', 'curry', '15'),\n",
    "  ('3', 'ramen', '12');\n",
    "  \n",
    "\n",
    "CREATE TABLE members (\n",
    "  \"customer_id\" VARCHAR(1),\n",
    "  \"join_date\" DATE\n",
    ");\n",
    "\n",
    "INSERT INTO members\n",
    "  (\"customer_id\", \"join_date\")\n",
    "VALUES\n",
    "  ('A', '2021-01-07'),\n",
    "  ('B', '2021-01-09');"
   ]
  },
  {
   "cell_type": "markdown",
   "metadata": {},
   "source": [
    "# Solution"
   ]
  },
  {
   "cell_type": "markdown",
   "metadata": {},
   "source": [
    "## 1 What is the total amount each customer spent at the restaurant?"
   ]
  },
  {
   "cell_type": "code",
   "execution_count": 74,
   "metadata": {},
   "outputs": [
    {
     "name": "stdout",
     "output_type": "stream",
     "text": [
      " * sqlite:///dannys_diner.db\n",
      "Done.\n"
     ]
    },
    {
     "data": {
      "text/html": [
       "<table>\n",
       "    <thead>\n",
       "        <tr>\n",
       "            <th>customer_id</th>\n",
       "            <th>total_amount</th>\n",
       "        </tr>\n",
       "    </thead>\n",
       "    <tbody>\n",
       "        <tr>\n",
       "            <td>A</td>\n",
       "            <td>76</td>\n",
       "        </tr>\n",
       "        <tr>\n",
       "            <td>B</td>\n",
       "            <td>74</td>\n",
       "        </tr>\n",
       "        <tr>\n",
       "            <td>C</td>\n",
       "            <td>36</td>\n",
       "        </tr>\n",
       "    </tbody>\n",
       "</table>"
      ],
      "text/plain": [
       "[('A', 76), ('B', 74), ('C', 36)]"
      ]
     },
     "execution_count": 74,
     "metadata": {},
     "output_type": "execute_result"
    }
   ],
   "source": [
    "%%sql\n",
    "\n",
    "SELECT\n",
    "    customer_id\n",
    "    , SUM(price) AS total_amount\n",
    "FROM\n",
    "    sales AS s\n",
    "LEFT JOIN menu AS m ON s.product_id = m.product_id\n",
    "GROUP BY \n",
    "    customer_id\n",
    "    "
   ]
  },
  {
   "cell_type": "markdown",
   "metadata": {},
   "source": [
    "## 2 How many days has each customer visited the restaurant?"
   ]
  },
  {
   "cell_type": "code",
   "execution_count": 107,
   "metadata": {},
   "outputs": [
    {
     "name": "stdout",
     "output_type": "stream",
     "text": [
      " * sqlite:///dannys_diner.db\n",
      "Done.\n"
     ]
    },
    {
     "data": {
      "text/html": [
       "<table>\n",
       "    <thead>\n",
       "        <tr>\n",
       "            <th>customer_id</th>\n",
       "            <th>total_days</th>\n",
       "        </tr>\n",
       "    </thead>\n",
       "    <tbody>\n",
       "        <tr>\n",
       "            <td>A</td>\n",
       "            <td>4</td>\n",
       "        </tr>\n",
       "        <tr>\n",
       "            <td>B</td>\n",
       "            <td>6</td>\n",
       "        </tr>\n",
       "        <tr>\n",
       "            <td>C</td>\n",
       "            <td>2</td>\n",
       "        </tr>\n",
       "    </tbody>\n",
       "</table>"
      ],
      "text/plain": [
       "[('A', 4), ('B', 6), ('C', 2)]"
      ]
     },
     "execution_count": 107,
     "metadata": {},
     "output_type": "execute_result"
    }
   ],
   "source": [
    "%%sql\n",
    "\n",
    "WITH agg_c AS\n",
    "    (SELECT \n",
    "        customer_id\n",
    "        , order_date\n",
    "    FROM\n",
    "        sales AS s\n",
    "    GROUP BY \n",
    "        order_date\n",
    "        , customer_id)\n",
    "\n",
    "SELECT\n",
    "    customer_id\n",
    "    ,COUNT(customer_id) AS total_days\n",
    "FROM\n",
    "    agg_c\n",
    "GROUP BY \n",
    "    customer_id\n",
    "\n"
   ]
  },
  {
   "cell_type": "markdown",
   "metadata": {},
   "source": [
    "## 3 What was the first item from the menu purchased by each customer?"
   ]
  },
  {
   "cell_type": "code",
   "execution_count": 126,
   "metadata": {},
   "outputs": [
    {
     "name": "stdout",
     "output_type": "stream",
     "text": [
      " * sqlite:///dannys_diner.db\n",
      "Done.\n"
     ]
    },
    {
     "data": {
      "text/html": [
       "<table>\n",
       "    <thead>\n",
       "        <tr>\n",
       "            <th>customer_id</th>\n",
       "            <th>product_name</th>\n",
       "        </tr>\n",
       "    </thead>\n",
       "    <tbody>\n",
       "        <tr>\n",
       "            <td>A</td>\n",
       "            <td>sushi</td>\n",
       "        </tr>\n",
       "        <tr>\n",
       "            <td>B</td>\n",
       "            <td>sushi</td>\n",
       "        </tr>\n",
       "        <tr>\n",
       "            <td>C</td>\n",
       "            <td>ramen</td>\n",
       "        </tr>\n",
       "    </tbody>\n",
       "</table>"
      ],
      "text/plain": [
       "[('A', 'sushi'), ('B', 'sushi'), ('C', 'ramen')]"
      ]
     },
     "execution_count": 126,
     "metadata": {},
     "output_type": "execute_result"
    }
   ],
   "source": [
    "%%sql\n",
    "\n",
    "WITH min_item_id AS(\n",
    "    SELECT\n",
    "        s.customer_id\n",
    "        , MIN(s.product_id) AS firts_item_id\n",
    "    FROM\n",
    "        sales AS s \n",
    "    GROUP BY \n",
    "        customer_id\n",
    ")\n",
    "\n",
    "SELECT\n",
    "     s.customer_id\n",
    "    , m.product_name\n",
    "FROM\n",
    "    sales AS s\n",
    "    , min_item_id\n",
    "LEFT JOIN menu AS m ON s.product_id = m.product_id\n",
    "WHERE\n",
    "    s.customer_id = min_item_id.customer_id\n",
    "    AND m.product_id = min_item_id.firts_item_id\n",
    "GROUP BY \n",
    "    s.customer_id\n",
    "    , m.product_name\n",
    "\n",
    "\n"
   ]
  },
  {
   "cell_type": "markdown",
   "metadata": {},
   "source": [
    "## 4 What is the most purchased item on the menu and how many times was it purchased by all customers?"
   ]
  },
  {
   "cell_type": "code",
   "execution_count": 131,
   "metadata": {},
   "outputs": [
    {
     "name": "stdout",
     "output_type": "stream",
     "text": [
      " * sqlite:///dannys_diner.db\n",
      "Done.\n"
     ]
    },
    {
     "data": {
      "text/html": [
       "<table>\n",
       "    <thead>\n",
       "        <tr>\n",
       "            <th>product_name</th>\n",
       "            <th>amount_of_times</th>\n",
       "        </tr>\n",
       "    </thead>\n",
       "    <tbody>\n",
       "        <tr>\n",
       "            <td>ramen</td>\n",
       "            <td>8</td>\n",
       "        </tr>\n",
       "    </tbody>\n",
       "</table>"
      ],
      "text/plain": [
       "[('ramen', 8)]"
      ]
     },
     "execution_count": 131,
     "metadata": {},
     "output_type": "execute_result"
    }
   ],
   "source": [
    "%%sql\n",
    "\n",
    "SELECT\n",
    "    product_name\n",
    "    , COUNT(s.product_id) AS amount_of_times\n",
    "FROM\n",
    "    sales AS s \n",
    "LEFT JOIN menu AS m ON s.product_id = m.product_id\n",
    "GROUP BY \n",
    "    product_name\n",
    "ORDER BY \n",
    "    COUNT(s.product_id) DESC\n",
    "LIMIT 1"
   ]
  },
  {
   "cell_type": "markdown",
   "metadata": {},
   "source": [
    "## 5 Which item was the most popular for each customer?"
   ]
  },
  {
   "cell_type": "code",
   "execution_count": 140,
   "metadata": {},
   "outputs": [
    {
     "name": "stdout",
     "output_type": "stream",
     "text": [
      " * sqlite:///dannys_diner.db\n",
      "Done.\n"
     ]
    },
    {
     "data": {
      "text/html": [
       "<table>\n",
       "    <thead>\n",
       "        <tr>\n",
       "            <th>customer_id</th>\n",
       "            <th>product_name</th>\n",
       "        </tr>\n",
       "    </thead>\n",
       "    <tbody>\n",
       "        <tr>\n",
       "            <td>A</td>\n",
       "            <td>ramen</td>\n",
       "        </tr>\n",
       "        <tr>\n",
       "            <td>B</td>\n",
       "            <td>sushi</td>\n",
       "        </tr>\n",
       "        <tr>\n",
       "            <td>C</td>\n",
       "            <td>ramen</td>\n",
       "        </tr>\n",
       "    </tbody>\n",
       "</table>"
      ],
      "text/plain": [
       "[('A', 'ramen'), ('B', 'sushi'), ('C', 'ramen')]"
      ]
     },
     "execution_count": 140,
     "metadata": {},
     "output_type": "execute_result"
    }
   ],
   "source": [
    "%%sql\n",
    "\n",
    "WITH items_count AS(\n",
    "    SELECT\n",
    "        s.customer_id\n",
    "        , m.product_name\n",
    "        , COUNT(product_name) AS amount_items\n",
    "    FROM\n",
    "        sales AS s \n",
    "    LEFT JOIN menu AS m ON s.product_id = m.product_id\n",
    "    GROUP BY \n",
    "        s.customer_id\n",
    "        , m.product_id\n",
    ")\n",
    "\n",
    "SELECT\n",
    "    customer_id\n",
    "    , product_name\n",
    "FROM\n",
    "    items_count\n",
    "GROUP BY \n",
    "    customer_id\n",
    "HAVING\n",
    "    amount_items = MAX(amount_items)\n",
    "\n"
   ]
  },
  {
   "cell_type": "markdown",
   "metadata": {},
   "source": [
    "## 6 Which item was purchased first by the customer after they became a member?"
   ]
  },
  {
   "cell_type": "code",
   "execution_count": 161,
   "metadata": {},
   "outputs": [
    {
     "name": "stdout",
     "output_type": "stream",
     "text": [
      " * sqlite:///dannys_diner.db\n",
      "Done.\n"
     ]
    },
    {
     "data": {
      "text/html": [
       "<table>\n",
       "    <thead>\n",
       "        <tr>\n",
       "            <th>customer_id</th>\n",
       "            <th>product_name</th>\n",
       "        </tr>\n",
       "    </thead>\n",
       "    <tbody>\n",
       "        <tr>\n",
       "            <td>A</td>\n",
       "            <td>curry</td>\n",
       "        </tr>\n",
       "        <tr>\n",
       "            <td>B</td>\n",
       "            <td>sushi</td>\n",
       "        </tr>\n",
       "    </tbody>\n",
       "</table>"
      ],
      "text/plain": [
       "[('A', 'curry'), ('B', 'sushi')]"
      ]
     },
     "execution_count": 161,
     "metadata": {},
     "output_type": "execute_result"
    }
   ],
   "source": [
    "%%sql \n",
    "\n",
    "WITH member_orders AS(\n",
    "    SELECT \n",
    "        s.customer_id\n",
    "        , s.order_date\n",
    "        , m.product_name\n",
    "    FROM\n",
    "        sales AS s\n",
    "    LEFT JOIN members AS mb ON s.customer_id = mb.customer_id\n",
    "    LEFT JOIN menu AS m ON m.product_id = s.product_id\n",
    "    WHERE\n",
    "        order_date >= join_date\n",
    "    ORDER BY \n",
    "        s.product_id\n",
    ")\n",
    "\n",
    "SELECT\n",
    "    customer_id\n",
    "    , product_name\n",
    "FROM\n",
    "    member_orders\n",
    "GROUP BY \n",
    "    customer_id\n",
    "HAVING\n",
    "    order_date = MIN(order_date)\n"
   ]
  },
  {
   "cell_type": "markdown",
   "metadata": {},
   "source": [
    "## 7 Which item was purchased just before the customer became a member?"
   ]
  },
  {
   "cell_type": "code",
   "execution_count": 160,
   "metadata": {},
   "outputs": [
    {
     "name": "stdout",
     "output_type": "stream",
     "text": [
      " * sqlite:///dannys_diner.db\n",
      "Done.\n"
     ]
    },
    {
     "data": {
      "text/html": [
       "<table>\n",
       "    <thead>\n",
       "        <tr>\n",
       "            <th>customer_id</th>\n",
       "            <th>product_name</th>\n",
       "        </tr>\n",
       "    </thead>\n",
       "    <tbody>\n",
       "        <tr>\n",
       "            <td>A</td>\n",
       "            <td>curry</td>\n",
       "        </tr>\n",
       "        <tr>\n",
       "            <td>B</td>\n",
       "            <td>sushi</td>\n",
       "        </tr>\n",
       "    </tbody>\n",
       "</table>"
      ],
      "text/plain": [
       "[('A', 'curry'), ('B', 'sushi')]"
      ]
     },
     "execution_count": 160,
     "metadata": {},
     "output_type": "execute_result"
    }
   ],
   "source": [
    "%%sql \n",
    "\n",
    "WITH nonmember_orders AS(\n",
    "    SELECT \n",
    "        s.customer_id\n",
    "        , s.order_date\n",
    "        , m.product_name\n",
    "    FROM\n",
    "        sales AS s\n",
    "    LEFT JOIN members AS mb ON s.customer_id = mb.customer_id\n",
    "    LEFT JOIN menu AS m ON m.product_id = s.product_id\n",
    "    WHERE\n",
    "        order_date < join_date\n",
    "    ORDER BY \n",
    "        s.product_id DESC\n",
    ")\n",
    "\n",
    "SELECT\n",
    "    customer_id\n",
    "    , product_name\n",
    "FROM\n",
    "    nonmember_orders\n",
    "GROUP BY \n",
    "    customer_id\n",
    "HAVING\n",
    "    order_date = MAX(order_date)\n"
   ]
  },
  {
   "cell_type": "markdown",
   "metadata": {},
   "source": [
    "## 8 What is the total items and amount spent for each member before they became a member?"
   ]
  },
  {
   "cell_type": "code",
   "execution_count": 162,
   "metadata": {},
   "outputs": [
    {
     "name": "stdout",
     "output_type": "stream",
     "text": [
      " * sqlite:///dannys_diner.db\n",
      "Done.\n"
     ]
    },
    {
     "data": {
      "text/html": [
       "<table>\n",
       "    <thead>\n",
       "        <tr>\n",
       "            <th>customer_id</th>\n",
       "            <th>total_items</th>\n",
       "            <th>amount_spent</th>\n",
       "        </tr>\n",
       "    </thead>\n",
       "    <tbody>\n",
       "        <tr>\n",
       "            <td>A</td>\n",
       "            <td>2</td>\n",
       "            <td>25</td>\n",
       "        </tr>\n",
       "        <tr>\n",
       "            <td>B</td>\n",
       "            <td>3</td>\n",
       "            <td>40</td>\n",
       "        </tr>\n",
       "    </tbody>\n",
       "</table>"
      ],
      "text/plain": [
       "[('A', 2, 25), ('B', 3, 40)]"
      ]
     },
     "execution_count": 162,
     "metadata": {},
     "output_type": "execute_result"
    }
   ],
   "source": [
    "%%sql \n",
    "\n",
    "WITH nonmember_orders AS(\n",
    "    SELECT \n",
    "        s.customer_id\n",
    "        , s.order_date\n",
    "        , m.product_id\n",
    "        , m.product_name\n",
    "        , m.price\n",
    "    FROM\n",
    "        sales AS s\n",
    "    LEFT JOIN members AS mb ON s.customer_id = mb.customer_id\n",
    "    LEFT JOIN menu AS m ON m.product_id = s.product_id\n",
    "    WHERE\n",
    "        order_date < join_date\n",
    ")\n",
    "\n",
    "SELECT\n",
    "    customer_id\n",
    "    , COUNT(product_id) AS total_items\n",
    "    , SUM(price) AS amount_spent\n",
    "FROM\n",
    "    nonmember_orders\n",
    "GROUP BY\n",
    "    customer_id\n"
   ]
  },
  {
   "cell_type": "markdown",
   "metadata": {},
   "source": [
    "## 9 If each $1 spent equates to 10 points and sushi has a 2x points multiplier - how many points would each customer have?\n",
    "\n",
    "Requirements are not clear, I assume that customer was rewarded only if he was a member."
   ]
  },
  {
   "cell_type": "code",
   "execution_count": 185,
   "metadata": {},
   "outputs": [
    {
     "name": "stdout",
     "output_type": "stream",
     "text": [
      " * sqlite:///dannys_diner.db\n",
      "Done.\n"
     ]
    },
    {
     "data": {
      "text/html": [
       "<table>\n",
       "    <thead>\n",
       "        <tr>\n",
       "            <th>customer_id</th>\n",
       "            <th>points_amount</th>\n",
       "        </tr>\n",
       "    </thead>\n",
       "    <tbody>\n",
       "        <tr>\n",
       "            <td>A</td>\n",
       "            <td>510</td>\n",
       "        </tr>\n",
       "        <tr>\n",
       "            <td>B</td>\n",
       "            <td>440</td>\n",
       "        </tr>\n",
       "    </tbody>\n",
       "</table>"
      ],
      "text/plain": [
       "[('A', 510), ('B', 440)]"
      ]
     },
     "execution_count": 185,
     "metadata": {},
     "output_type": "execute_result"
    }
   ],
   "source": [
    "%%sql\n",
    "\n",
    "WITH points_menu AS(\n",
    "    SELECT\n",
    "        product_id\n",
    "        , product_name\n",
    "        , price\n",
    "        , CASE\n",
    "            WHEN product_name != \"sushi\" THEN price * 10\n",
    "            ELSE price * 10 * 2\n",
    "            END AS points\n",
    "    FROM\n",
    "        menu\n",
    "),\n",
    "\n",
    "member_orders AS(\n",
    "    SELECT\n",
    "        s.customer_id\n",
    "        , s. product_id\n",
    "        , s.order_date\n",
    "        , mb.join_date\n",
    "    FROM\n",
    "        sales AS s \n",
    "    LEFT JOIN members AS mb ON s.customer_id = mb.customer_id\n",
    "    WHERE\n",
    "        s.order_date >= mb.join_date\n",
    ")\n",
    "\n",
    "SELECT \n",
    "    mo.customer_id\n",
    "    , SUM(pm.points) points_amount\n",
    "FROM\n",
    "    member_orders AS mo\n",
    "LEFT JOIN points_menu AS pm ON mo.product_id = pm.product_id\n",
    "GROUP BY \n",
    "    customer_id"
   ]
  },
  {
   "cell_type": "markdown",
   "metadata": {},
   "source": [
    "## 10 In the first week after a customer joins the program (including their join date) they earn 2x points on all items, not just sushi - how many points do customer A and B have at the end of January?"
   ]
  },
  {
   "cell_type": "code",
   "execution_count": 199,
   "metadata": {},
   "outputs": [
    {
     "name": "stdout",
     "output_type": "stream",
     "text": [
      " * sqlite:///dannys_diner.db\n",
      "Done.\n"
     ]
    },
    {
     "data": {
      "text/html": [
       "<table>\n",
       "    <thead>\n",
       "        <tr>\n",
       "            <th>customer_id</th>\n",
       "            <th>points_amount</th>\n",
       "        </tr>\n",
       "    </thead>\n",
       "    <tbody>\n",
       "        <tr>\n",
       "            <td>A</td>\n",
       "            <td>1020</td>\n",
       "        </tr>\n",
       "        <tr>\n",
       "            <td>B</td>\n",
       "            <td>560</td>\n",
       "        </tr>\n",
       "    </tbody>\n",
       "</table>"
      ],
      "text/plain": [
       "[('A', 1020), ('B', 560)]"
      ]
     },
     "execution_count": 199,
     "metadata": {},
     "output_type": "execute_result"
    }
   ],
   "source": [
    "%%sql\n",
    "\n",
    "WITH earned_points AS(\n",
    "    SELECT\n",
    "    s.customer_id\n",
    "    , s.product_id\n",
    "    , s.order_date\n",
    "    , m.product_name\n",
    "    , m.price\n",
    "    , mb.join_date\n",
    "    , CASE\n",
    "        WHEN s.order_date >= mb.join_date AND s.order_date <= DATE(mb.join_date, \"+7 day\") AND strftime('%m',mb.join_date) = \"01\" THEN m.price * 10 * 2\n",
    "        WHEN s.order_date >= mb.join_date AND m.product_name == \"sushi\" AND strftime('%m',mb.join_date) = \"01\" THEN m.price * 10 * 2\n",
    "        WHEN s.order_date >= mb.join_date AND m.product_name != \"sushi\" AND strftime('%m',mb.join_date) = \"01\" THEN m.price * 10\n",
    "        ELSE NULL END AS points\n",
    "    FROM\n",
    "        sales AS s \n",
    "    LEFT JOIN menu AS m ON s.product_id = m.product_id\n",
    "    LEFT JOIN members AS mb ON s.customer_id = mb.customer_id\n",
    ")\n",
    "\n",
    "SELECT\n",
    "    customer_id\n",
    "    , SUM(points) AS points_amount\n",
    "FROM\n",
    "    earned_points\n",
    "GROUP BY \n",
    "    customer_id\n",
    "HAVING \n",
    "    SUM(points) IS NOT NULL\n",
    "\n"
   ]
  },
  {
   "cell_type": "code",
   "execution_count": null,
   "metadata": {},
   "outputs": [],
   "source": []
  }
 ],
 "metadata": {
  "kernelspec": {
   "display_name": "Python 3.11.0 64-bit",
   "language": "python",
   "name": "python3"
  },
  "language_info": {
   "codemirror_mode": {
    "name": "ipython",
    "version": 3
   },
   "file_extension": ".py",
   "mimetype": "text/x-python",
   "name": "python",
   "nbconvert_exporter": "python",
   "pygments_lexer": "ipython3",
   "version": "3.11.0"
  },
  "orig_nbformat": 4,
  "vscode": {
   "interpreter": {
    "hash": "aee8b7b246df8f9039afb4144a1f6fd8d2ca17a180786b69acc140d282b71a49"
   }
  }
 },
 "nbformat": 4,
 "nbformat_minor": 2
}
