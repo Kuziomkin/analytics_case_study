{
 "cells": [
  {
   "cell_type": "markdown",
   "metadata": {},
   "source": [
    "# Introduction\n",
    "This is the second case study from 8WEEKSQLCHALLENGE cource: https://8weeksqlchallenge.com/case-study-2/\n",
    "\n",
    "Did you know that over 115 million kilograms of pizza is consumed daily worldwide??? (Well according to Wikipedia anyway…)\n",
    "\n",
    "Danny was scrolling through his Instagram feed when something really caught his eye - “80s Retro Styling and Pizza Is The Future!”\n",
    "\n",
    "Danny was sold on the idea, but he knew that pizza alone was not going to help him get seed funding to expand his new Pizza Empire - so he had one more genius idea to combine with it - he was going to Uberize it - and so Pizza Runner was launched!\n",
    "\n",
    "Danny started by recruiting “runners” to deliver fresh pizza from Pizza Runner Headquarters (otherwise known as Danny’s house) and also maxed out his credit card to pay freelance developers to build a mobile app to accept orders from customers."
   ]
  },
  {
   "cell_type": "markdown",
   "metadata": {},
   "source": [
    "## Problem Statement\n",
    "Danny wants to use the data to answer a few simple questions about purchase, runner and customer experience, ingredient optimisation, pricing and ratings.\n",
    "Danny has collected data in the DB, so we can use it.\n",
    "\n",
    "Danny has shared with you 6 key datasets for this case study:\n",
    "\n",
    "- runners\n",
    "- customer_orders\n",
    "- runner_orders\n",
    "- pizza_names\n",
    "- pizza_recipes\n",
    "- pizza_toppings"
   ]
  },
  {
   "cell_type": "markdown",
   "metadata": {},
   "source": [
    "## Case Study Questions\n",
    "This case study has LOTS of questions - they are broken up by area of focus including:\n",
    "\n",
    "Pizza Metrics\n",
    "Runner and Customer Experience\n",
    "Ingredient Optimisation\n",
    "Pricing and Ratings\n",
    "Bonus DML Challenges (DML = Data Manipulation Language)\n",
    "Each of the following case study questions can be answered using a single SQL statement.\n",
    "\n",
    "__A. Pizza Metrics__\n",
    "\n",
    "1. How many pizzas were ordered?\n",
    "2. How many unique customer orders were made?\n",
    "3. How many successful orders were delivered by each runner?\n",
    "4. How many of each type of pizza was delivered?\n",
    "5. How many Vegetarian and Meatlovers were ordered by each customer?\n",
    "6. What was the maximum number of pizzas delivered in a single order?\n",
    "7. For each customer, how many delivered pizzas had at least 1 change and how many had no changes?\n",
    "8. How many pizzas were delivered that had both exclusions and extras?\n",
    "9. What was the total volume of pizzas ordered for each hour of the day?\n",
    "10. What was the volume of orders for each day of the week?\n",
    "\n",
    "__B. Runner and Customer Experience__\n",
    "\n",
    "1. How many runners signed up for each 1 week period? (i.e. week starts 2021-01-01)\n",
    "2. What was the average time in minutes it took for each runner to arrive at the Pizza Runner HQ to pickup the order?\n",
    "3. Is there any relationship between the number of pizzas and how long the order takes to prepare?\n",
    "4. What was the average distance travelled for each customer?\n",
    "5. What was the difference between the longest and shortest delivery times for all orders?\n",
    "6. What was the average speed for each runner for each delivery and do you notice any trend for these values?\n",
    "7. What is the successful delivery percentage for each runner?\n",
    "\n",
    "__C. Ingredient Optimisation__\n",
    "\n",
    "1. What are the standard ingredients for each pizza?\n",
    "2. What was the most commonly added extra?\n",
    "3. What was the most common exclusion?\n",
    "4. Generate an order item for each record in the customers_orders table in the format of one of the following:\n",
    "- Meat Lovers\n",
    "- Meat Lovers - Exclude Beef\n",
    "- Meat Lovers - Extra Bacon\n",
    "- Meat Lovers - Exclude Cheese, Bacon - Extra Mushroom, Peppers\n",
    "5. Generate an alphabetically ordered comma separated ingredient list for each pizza order from the customer_orders table and add a 2x in front of any relevant ingredients\n",
    "- For example: \"Meat Lovers: 2xBacon, Beef, ... , Salami\"\n",
    "6. What is the total quantity of each ingredient used in all delivered pizzas sorted by most frequent first?\n",
    "\n",
    "__D. Pricing and Ratings__\n",
    "\n",
    "1. If a Meat Lovers pizza costs $12 and Vegetarian costs $10 and there were no charges for changes - how much money has Pizza Runner made so far if there are no delivery fees?\n",
    "2. What if there was an additional $1 charge for any pizza extras?\n",
    "- Add cheese is $1 extra\n",
    "3. The Pizza Runner team now wants to add an additional ratings system that allows customers to rate their runner, how would you design an additional table for this new dataset - generate a schema for this new table and insert your own data for ratings for each successful customer order between 1 to 5.\n",
    "4. Using your newly generated table - can you join all of the information together to form a table which has the following information for successful deliveries?\n",
    "- customer_id\n",
    "- order_id\n",
    "- runner_id\n",
    "- rating\n",
    "- order_time\n",
    "- pickup_time\n",
    "- Time between order and pickup\n",
    "- Delivery duration\n",
    "- Average speed\n",
    "- Total number of pizzas\n",
    "5. If a Meat Lovers pizza was $12 and Vegetarian $10 fixed prices with no cost for extras and each runner is paid $0.30 per kilometre traveled - how much money does Pizza Runner have left over after these deliveries?"
   ]
  },
  {
   "cell_type": "markdown",
   "metadata": {},
   "source": [
    "# Preparation"
   ]
  },
  {
   "cell_type": "markdown",
   "metadata": {},
   "source": [
    "## Import libraries and setup dependencies"
   ]
  },
  {
   "cell_type": "code",
   "execution_count": 3,
   "metadata": {},
   "outputs": [],
   "source": [
    "import iplantuml"
   ]
  },
  {
   "cell_type": "code",
   "execution_count": 4,
   "metadata": {},
   "outputs": [],
   "source": [
    "%load_ext sql"
   ]
  },
  {
   "cell_type": "code",
   "execution_count": 5,
   "metadata": {},
   "outputs": [],
   "source": [
    "%sql sqlite:///pizza_runner.db"
   ]
  },
  {
   "cell_type": "markdown",
   "metadata": {},
   "source": [
    "## Entity relationship diagram"
   ]
  },
  {
   "cell_type": "code",
   "execution_count": 6,
   "metadata": {},
   "outputs": [
    {
     "name": "stdout",
     "output_type": "stream",
     "text": [
      "Writing output for /Users/dzianiskuziomkin/Repositories/case_study_1/pizza_runner/86abac73-2411-4275-b288-8e9ddc6d3816.uml to 86abac73-2411-4275-b288-8e9ddc6d3816.svg\n"
     ]
    },
    {
     "data": {
      "image/svg+xml": "<svg xmlns=\"http://www.w3.org/2000/svg\" xmlns:xlink=\"http://www.w3.org/1999/xlink\" contentStyleType=\"text/css\" height=\"416px\" preserveAspectRatio=\"none\" style=\"width:688px;height:416px;background:#FFFFFF;\" version=\"1.1\" viewBox=\"0 0 688 416\" width=\"688px\" zoomAndPan=\"magnify\"><defs/><g><!--cluster Entity Relationship Diagram--><g id=\"cluster_Entity Relationship Diagram\"><rect fill=\"none\" height=\"403\" rx=\"2.5\" ry=\"2.5\" style=\"stroke:#181818;stroke-width:1.0;\" width=\"675\" x=\"7\" y=\"7\"/><path d=\"M246,7 L246,16.2969 L236,26.2969 L7,26.2969 \" fill=\"none\" style=\"stroke:#181818;stroke-width:1.0;\"/><text fill=\"#000000\" font-family=\"sans-serif\" font-size=\"14\" font-weight=\"bold\" lengthAdjust=\"spacing\" textLength=\"229\" x=\"10\" y=\"20.9951\">Entity Relationship Diagram</text></g><!--class customer_orders--><g id=\"elem_customer_orders\"><rect codeLine=\"5\" fill=\"#F1F1F1\" height=\"194.6719\" id=\"customer_orders\" rx=\"2.5\" ry=\"2.5\" style=\"stroke:#181818;stroke-width:0.5;\" width=\"194\" x=\"472\" y=\"42\"/><ellipse cx=\"505.45\" cy=\"58\" fill=\"#ADD1B2\" rx=\"11\" ry=\"11\" style=\"stroke:#181818;stroke-width:1.0;\"/><path d=\"M504.2469,58.875 L505.7,58.875 L505.7,58.9844 C505.7,59.3906 505.7313,59.5469 505.8094,59.7031 C505.9656,59.9531 506.2469,60.1094 506.5438,60.1094 C506.7938,60.1094 507.0594,59.9688 507.2156,59.75 C507.3406,59.5938 507.3719,59.4375 507.3719,58.9844 L507.3719,57.0625 C507.3719,56.9063 507.3719,56.8594 507.3563,56.7031 C507.2938,56.2344 506.9813,55.9219 506.5281,55.9219 C506.2781,55.9219 506.0125,56.0625 505.8406,56.2813 C505.7313,56.4531 505.7,56.6094 505.7,57.0625 L505.7,57.1875 L504.2469,57.1875 L504.2469,54.7813 L508.2313,54.7813 L508.2313,55.6406 C508.2313,56.0469 508.2625,56.2188 508.3406,56.375 C508.5125,56.625 508.7938,56.7813 509.075,56.7813 C509.3406,56.7813 509.6063,56.6406 509.7781,56.4219 C509.8875,56.25 509.9188,56.1094 509.9188,55.6406 L509.9188,53.0938 L502.2938,53.0938 C501.8563,53.0938 501.7313,53.1094 501.575,53.2031 C501.325,53.3594 501.1688,53.6563 501.1688,53.9375 C501.1688,54.2188 501.3094,54.4688 501.5281,54.6406 C501.6844,54.75 501.8719,54.7813 502.2938,54.7813 L502.5438,54.7813 L502.5438,61.2969 L502.2938,61.2969 C501.8875,61.2969 501.7313,61.3125 501.575,61.4219 C501.325,61.5938 501.1688,61.8594 501.1688,62.1563 C501.1688,62.4219 501.3094,62.6719 501.5281,62.8281 C501.6688,62.9531 501.9031,63 502.2938,63 L510.2938,63 L510.2938,60.4219 C510.2938,59.9844 510.2625,59.8438 510.1844,59.6875 C510.0125,59.4375 509.7313,59.2813 509.45,59.2813 C509.1844,59.2813 508.9188,59.3906 508.7469,59.6406 C508.6375,59.7969 508.6063,59.9375 508.6063,60.4219 L508.6063,61.2969 L504.2469,61.2969 L504.2469,58.875 Z \" fill=\"#000000\"/><text fill=\"#000000\" font-family=\"sans-serif\" font-size=\"14\" lengthAdjust=\"spacing\" textLength=\"121\" x=\"523.55\" y=\"62.8467\">customer_orders</text><line style=\"stroke:#181818;stroke-width:0.5;\" x1=\"473\" x2=\"665\" y1=\"74\" y2=\"74\"/><ellipse cx=\"483\" cy=\"87.6484\" fill=\"#000000\" rx=\"3\" ry=\"3\" style=\"stroke:#000000;stroke-width:1.0;\"/><text fill=\"#000000\" font-family=\"sans-serif\" font-size=\"14\" lengthAdjust=\"spacing\" textLength=\"125\" x=\"492\" y=\"90.9951\">order_id : integer</text><ellipse cx=\"483\" cy=\"103.9453\" fill=\"#000000\" rx=\"3\" ry=\"3\" style=\"stroke:#000000;stroke-width:1.0;\"/><text fill=\"#000000\" font-family=\"sans-serif\" font-size=\"14\" lengthAdjust=\"spacing\" textLength=\"154\" x=\"492\" y=\"107.292\">customer_id : integer</text><ellipse cx=\"483\" cy=\"120.2422\" fill=\"#000000\" rx=\"3\" ry=\"3\" style=\"stroke:#000000;stroke-width:1.0;\"/><text fill=\"#000000\" font-family=\"sans-serif\" font-size=\"14\" lengthAdjust=\"spacing\" textLength=\"124\" x=\"492\" y=\"123.5889\">pizza_id : integer</text><ellipse cx=\"483\" cy=\"136.5391\" fill=\"#000000\" rx=\"3\" ry=\"3\" style=\"stroke:#000000;stroke-width:1.0;\"/><text fill=\"#000000\" font-family=\"sans-serif\" font-size=\"14\" lengthAdjust=\"spacing\" textLength=\"160\" x=\"492\" y=\"139.8857\">exclussions: varchar(4)</text><ellipse cx=\"483\" cy=\"152.8359\" fill=\"#000000\" rx=\"3\" ry=\"3\" style=\"stroke:#000000;stroke-width:1.0;\"/><text fill=\"#000000\" font-family=\"sans-serif\" font-size=\"14\" lengthAdjust=\"spacing\" textLength=\"125\" x=\"492\" y=\"156.1826\">extras: varchar(4)</text><ellipse cx=\"483\" cy=\"169.1328\" fill=\"#000000\" rx=\"3\" ry=\"3\" style=\"stroke:#000000;stroke-width:1.0;\"/><text fill=\"#000000\" font-family=\"sans-serif\" font-size=\"14\" lengthAdjust=\"spacing\" textLength=\"168\" x=\"492\" y=\"172.4795\">order_date: timestamp</text><line style=\"stroke:#181818;stroke-width:1.0;\" x1=\"473\" x2=\"665\" y1=\"179.7813\" y2=\"179.7813\"/><ellipse cx=\"483\" cy=\"193.4297\" fill=\"#000000\" rx=\"3\" ry=\"3\" style=\"stroke:#000000;stroke-width:1.0;\"/><text fill=\"#000000\" font-family=\"sans-serif\" font-size=\"14\" lengthAdjust=\"spacing\" textLength=\"88\" x=\"492\" y=\"196.7764\">PK(order_id)</text><ellipse cx=\"483\" cy=\"209.7266\" fill=\"#000000\" rx=\"3\" ry=\"3\" style=\"stroke:#000000;stroke-width:1.0;\"/><text fill=\"#000000\" font-family=\"sans-serif\" font-size=\"14\" lengthAdjust=\"spacing\" textLength=\"86\" x=\"492\" y=\"213.0732\">FK(pizza_id)</text><ellipse cx=\"483\" cy=\"226.0234\" fill=\"#000000\" rx=\"3\" ry=\"3\" style=\"stroke:#000000;stroke-width:1.0;\"/><text fill=\"#000000\" font-family=\"sans-serif\" font-size=\"14\" lengthAdjust=\"spacing\" textLength=\"116\" x=\"492\" y=\"229.3701\">FK(customer_id)</text></g><!--class pizza_name--><g id=\"elem_pizza_name\"><rect codeLine=\"18\" fill=\"#F1F1F1\" height=\"96.8906\" id=\"pizza_name\" rx=\"2.5\" ry=\"2.5\" style=\"stroke:#181818;stroke-width:0.5;\" width=\"151\" x=\"514.5\" y=\"297\"/><ellipse cx=\"544.8\" cy=\"313\" fill=\"#ADD1B2\" rx=\"11\" ry=\"11\" style=\"stroke:#181818;stroke-width:1.0;\"/><path d=\"M543.5969,313.875 L545.05,313.875 L545.05,313.9844 C545.05,314.3906 545.0813,314.5469 545.1594,314.7031 C545.3156,314.9531 545.5969,315.1094 545.8938,315.1094 C546.1438,315.1094 546.4094,314.9688 546.5656,314.75 C546.6906,314.5938 546.7219,314.4375 546.7219,313.9844 L546.7219,312.0625 C546.7219,311.9063 546.7219,311.8594 546.7063,311.7031 C546.6438,311.2344 546.3313,310.9219 545.8781,310.9219 C545.6281,310.9219 545.3625,311.0625 545.1906,311.2813 C545.0813,311.4531 545.05,311.6094 545.05,312.0625 L545.05,312.1875 L543.5969,312.1875 L543.5969,309.7813 L547.5813,309.7813 L547.5813,310.6406 C547.5813,311.0469 547.6125,311.2188 547.6906,311.375 C547.8625,311.625 548.1438,311.7813 548.425,311.7813 C548.6906,311.7813 548.9563,311.6406 549.1281,311.4219 C549.2375,311.25 549.2688,311.1094 549.2688,310.6406 L549.2688,308.0938 L541.6438,308.0938 C541.2063,308.0938 541.0813,308.1094 540.925,308.2031 C540.675,308.3594 540.5188,308.6563 540.5188,308.9375 C540.5188,309.2188 540.6594,309.4688 540.8781,309.6406 C541.0344,309.75 541.2219,309.7813 541.6438,309.7813 L541.8938,309.7813 L541.8938,316.2969 L541.6438,316.2969 C541.2375,316.2969 541.0813,316.3125 540.925,316.4219 C540.675,316.5938 540.5188,316.8594 540.5188,317.1563 C540.5188,317.4219 540.6594,317.6719 540.8781,317.8281 C541.0188,317.9531 541.2531,318 541.6438,318 L549.6438,318 L549.6438,315.4219 C549.6438,314.9844 549.6125,314.8438 549.5344,314.6875 C549.3625,314.4375 549.0813,314.2813 548.8,314.2813 C548.5344,314.2813 548.2688,314.3906 548.0969,314.6406 C547.9875,314.7969 547.9563,314.9375 547.9563,315.4219 L547.9563,316.2969 L543.5969,316.2969 L543.5969,313.875 Z \" fill=\"#000000\"/><text fill=\"#000000\" font-family=\"sans-serif\" font-size=\"14\" lengthAdjust=\"spacing\" textLength=\"85\" x=\"562.2\" y=\"317.8467\">pizza_name</text><line style=\"stroke:#181818;stroke-width:0.5;\" x1=\"515.5\" x2=\"664.5\" y1=\"329\" y2=\"329\"/><ellipse cx=\"525.5\" cy=\"342.6484\" fill=\"#000000\" rx=\"3\" ry=\"3\" style=\"stroke:#000000;stroke-width:1.0;\"/><text fill=\"#000000\" font-family=\"sans-serif\" font-size=\"14\" lengthAdjust=\"spacing\" textLength=\"120\" x=\"534.5\" y=\"345.9951\">pizza_id: integer</text><ellipse cx=\"525.5\" cy=\"358.9453\" fill=\"#000000\" rx=\"3\" ry=\"3\" style=\"stroke:#000000;stroke-width:1.0;\"/><text fill=\"#000000\" font-family=\"sans-serif\" font-size=\"14\" lengthAdjust=\"spacing\" textLength=\"125\" x=\"534.5\" y=\"362.292\">pizza_name: text</text><line style=\"stroke:#181818;stroke-width:1.0;\" x1=\"515.5\" x2=\"664.5\" y1=\"369.5938\" y2=\"369.5938\"/><ellipse cx=\"525.5\" cy=\"383.2422\" fill=\"#000000\" rx=\"3\" ry=\"3\" style=\"stroke:#000000;stroke-width:1.0;\"/><text fill=\"#000000\" font-family=\"sans-serif\" font-size=\"14\" lengthAdjust=\"spacing\" textLength=\"87\" x=\"534.5\" y=\"386.5889\">PK(pizza_id)</text></g><!--class pizza_recipes--><g id=\"elem_pizza_recipes\"><rect codeLine=\"25\" fill=\"#F1F1F1\" height=\"96.8906\" id=\"pizza_recipes\" rx=\"2.5\" ry=\"2.5\" style=\"stroke:#181818;stroke-width:0.5;\" width=\"146\" x=\"333\" y=\"297\"/><ellipse cx=\"355.2\" cy=\"313\" fill=\"#ADD1B2\" rx=\"11\" ry=\"11\" style=\"stroke:#181818;stroke-width:1.0;\"/><path d=\"M353.9969,313.875 L355.45,313.875 L355.45,313.9844 C355.45,314.3906 355.4813,314.5469 355.5594,314.7031 C355.7156,314.9531 355.9969,315.1094 356.2938,315.1094 C356.5438,315.1094 356.8094,314.9688 356.9656,314.75 C357.0906,314.5938 357.1219,314.4375 357.1219,313.9844 L357.1219,312.0625 C357.1219,311.9063 357.1219,311.8594 357.1063,311.7031 C357.0438,311.2344 356.7313,310.9219 356.2781,310.9219 C356.0281,310.9219 355.7625,311.0625 355.5906,311.2813 C355.4813,311.4531 355.45,311.6094 355.45,312.0625 L355.45,312.1875 L353.9969,312.1875 L353.9969,309.7813 L357.9813,309.7813 L357.9813,310.6406 C357.9813,311.0469 358.0125,311.2188 358.0906,311.375 C358.2625,311.625 358.5438,311.7813 358.825,311.7813 C359.0906,311.7813 359.3563,311.6406 359.5281,311.4219 C359.6375,311.25 359.6688,311.1094 359.6688,310.6406 L359.6688,308.0938 L352.0438,308.0938 C351.6063,308.0938 351.4813,308.1094 351.325,308.2031 C351.075,308.3594 350.9188,308.6563 350.9188,308.9375 C350.9188,309.2188 351.0594,309.4688 351.2781,309.6406 C351.4344,309.75 351.6219,309.7813 352.0438,309.7813 L352.2938,309.7813 L352.2938,316.2969 L352.0438,316.2969 C351.6375,316.2969 351.4813,316.3125 351.325,316.4219 C351.075,316.5938 350.9188,316.8594 350.9188,317.1563 C350.9188,317.4219 351.0594,317.6719 351.2781,317.8281 C351.4188,317.9531 351.6531,318 352.0438,318 L360.0438,318 L360.0438,315.4219 C360.0438,314.9844 360.0125,314.8438 359.9344,314.6875 C359.7625,314.4375 359.4813,314.2813 359.2,314.2813 C358.9344,314.2813 358.6688,314.3906 358.4969,314.6406 C358.3875,314.7969 358.3563,314.9375 358.3563,315.4219 L358.3563,316.2969 L353.9969,316.2969 L353.9969,313.875 Z \" fill=\"#000000\"/><text fill=\"#000000\" font-family=\"sans-serif\" font-size=\"14\" lengthAdjust=\"spacing\" textLength=\"98\" x=\"370.8\" y=\"317.8467\">pizza_recipes</text><line style=\"stroke:#181818;stroke-width:0.5;\" x1=\"334\" x2=\"478\" y1=\"329\" y2=\"329\"/><ellipse cx=\"344\" cy=\"342.6484\" fill=\"#000000\" rx=\"3\" ry=\"3\" style=\"stroke:#000000;stroke-width:1.0;\"/><text fill=\"#000000\" font-family=\"sans-serif\" font-size=\"14\" lengthAdjust=\"spacing\" textLength=\"120\" x=\"353\" y=\"345.9951\">pizza_id: integer</text><ellipse cx=\"344\" cy=\"358.9453\" fill=\"#000000\" rx=\"3\" ry=\"3\" style=\"stroke:#000000;stroke-width:1.0;\"/><text fill=\"#000000\" font-family=\"sans-serif\" font-size=\"14\" lengthAdjust=\"spacing\" textLength=\"105\" x=\"353\" y=\"362.292\">toppings: text</text><line style=\"stroke:#181818;stroke-width:1.0;\" x1=\"334\" x2=\"478\" y1=\"369.5938\" y2=\"369.5938\"/><ellipse cx=\"344\" cy=\"383.2422\" fill=\"#000000\" rx=\"3\" ry=\"3\" style=\"stroke:#000000;stroke-width:1.0;\"/><text fill=\"#000000\" font-family=\"sans-serif\" font-size=\"14\" lengthAdjust=\"spacing\" textLength=\"87\" x=\"353\" y=\"386.5889\">PK(pizza_id)</text></g><!--class pizza_toppings--><g id=\"elem_pizza_toppings\"><rect codeLine=\"32\" fill=\"#F1F1F1\" height=\"80.5938\" id=\"pizza_toppings\" rx=\"2.5\" ry=\"2.5\" style=\"stroke:#181818;stroke-width:0.5;\" width=\"171\" x=\"23.5\" y=\"99\"/><ellipse cx=\"51.55\" cy=\"115\" fill=\"#EB937F\" rx=\"11\" ry=\"11\" style=\"stroke:#181818;stroke-width:1.0;\"/><path d=\"M50.3469,115.875 L51.8,115.875 L51.8,115.9844 C51.8,116.3906 51.8313,116.5469 51.9094,116.7031 C52.0656,116.9531 52.3469,117.1094 52.6438,117.1094 C52.8938,117.1094 53.1594,116.9688 53.3156,116.75 C53.4406,116.5938 53.4719,116.4375 53.4719,115.9844 L53.4719,114.0625 C53.4719,113.9063 53.4719,113.8594 53.4563,113.7031 C53.3938,113.2344 53.0813,112.9219 52.6281,112.9219 C52.3781,112.9219 52.1125,113.0625 51.9406,113.2813 C51.8313,113.4531 51.8,113.6094 51.8,114.0625 L51.8,114.1875 L50.3469,114.1875 L50.3469,111.7813 L54.3313,111.7813 L54.3313,112.6406 C54.3313,113.0469 54.3625,113.2188 54.4406,113.375 C54.6125,113.625 54.8938,113.7813 55.175,113.7813 C55.4406,113.7813 55.7063,113.6406 55.8781,113.4219 C55.9875,113.25 56.0188,113.1094 56.0188,112.6406 L56.0188,110.0938 L48.3938,110.0938 C47.9563,110.0938 47.8313,110.1094 47.675,110.2031 C47.425,110.3594 47.2688,110.6563 47.2688,110.9375 C47.2688,111.2188 47.4094,111.4688 47.6281,111.6406 C47.7844,111.75 47.9719,111.7813 48.3938,111.7813 L48.6438,111.7813 L48.6438,118.2969 L48.3938,118.2969 C47.9875,118.2969 47.8313,118.3125 47.675,118.4219 C47.425,118.5938 47.2688,118.8594 47.2688,119.1563 C47.2688,119.4219 47.4094,119.6719 47.6281,119.8281 C47.7688,119.9531 48.0031,120 48.3938,120 L56.3938,120 L56.3938,117.4219 C56.3938,116.9844 56.3625,116.8438 56.2844,116.6875 C56.1125,116.4375 55.8313,116.2813 55.55,116.2813 C55.2844,116.2813 55.0188,116.3906 54.8469,116.6406 C54.7375,116.7969 54.7063,116.9375 54.7063,117.4219 L54.7063,118.2969 L50.3469,118.2969 L50.3469,115.875 Z \" fill=\"#000000\"/><text fill=\"#000000\" font-family=\"sans-serif\" font-size=\"14\" lengthAdjust=\"spacing\" textLength=\"110\" x=\"68.45\" y=\"119.8467\">pizza_toppings</text><line style=\"stroke:#181818;stroke-width:0.5;\" x1=\"24.5\" x2=\"193.5\" y1=\"131\" y2=\"131\"/><ellipse cx=\"34.5\" cy=\"144.6484\" fill=\"#000000\" rx=\"3\" ry=\"3\" style=\"stroke:#000000;stroke-width:1.0;\"/><text fill=\"#000000\" font-family=\"sans-serif\" font-size=\"14\" lengthAdjust=\"spacing\" textLength=\"140\" x=\"43.5\" y=\"147.9951\">topping_id: integer</text><ellipse cx=\"34.5\" cy=\"160.9453\" fill=\"#000000\" rx=\"3\" ry=\"3\" style=\"stroke:#000000;stroke-width:1.0;\"/><text fill=\"#000000\" font-family=\"sans-serif\" font-size=\"14\" lengthAdjust=\"spacing\" textLength=\"145\" x=\"43.5\" y=\"164.292\">topping_name: text</text><line style=\"stroke:#181818;stroke-width:0.5;\" x1=\"24.5\" x2=\"193.5\" y1=\"171.5938\" y2=\"171.5938\"/></g><!--class runner_orders--><g id=\"elem_runner_orders\"><rect codeLine=\"37\" fill=\"#F1F1F1\" height=\"178.375\" id=\"runner_orders\" rx=\"2.5\" ry=\"2.5\" style=\"stroke:#181818;stroke-width:0.5;\" width=\"207\" x=\"229.5\" y=\"50.5\"/><ellipse cx=\"278.75\" cy=\"66.5\" fill=\"#ADD1B2\" rx=\"11\" ry=\"11\" style=\"stroke:#181818;stroke-width:1.0;\"/><path d=\"M277.5469,67.375 L279,67.375 L279,67.4844 C279,67.8906 279.0313,68.0469 279.1094,68.2031 C279.2656,68.4531 279.5469,68.6094 279.8438,68.6094 C280.0938,68.6094 280.3594,68.4688 280.5156,68.25 C280.6406,68.0938 280.6719,67.9375 280.6719,67.4844 L280.6719,65.5625 C280.6719,65.4063 280.6719,65.3594 280.6563,65.2031 C280.5938,64.7344 280.2813,64.4219 279.8281,64.4219 C279.5781,64.4219 279.3125,64.5625 279.1406,64.7813 C279.0313,64.9531 279,65.1094 279,65.5625 L279,65.6875 L277.5469,65.6875 L277.5469,63.2813 L281.5313,63.2813 L281.5313,64.1406 C281.5313,64.5469 281.5625,64.7188 281.6406,64.875 C281.8125,65.125 282.0938,65.2813 282.375,65.2813 C282.6406,65.2813 282.9063,65.1406 283.0781,64.9219 C283.1875,64.75 283.2188,64.6094 283.2188,64.1406 L283.2188,61.5938 L275.5938,61.5938 C275.1563,61.5938 275.0313,61.6094 274.875,61.7031 C274.625,61.8594 274.4688,62.1563 274.4688,62.4375 C274.4688,62.7188 274.6094,62.9688 274.8281,63.1406 C274.9844,63.25 275.1719,63.2813 275.5938,63.2813 L275.8438,63.2813 L275.8438,69.7969 L275.5938,69.7969 C275.1875,69.7969 275.0313,69.8125 274.875,69.9219 C274.625,70.0938 274.4688,70.3594 274.4688,70.6563 C274.4688,70.9219 274.6094,71.1719 274.8281,71.3281 C274.9688,71.4531 275.2031,71.5 275.5938,71.5 L283.5938,71.5 L283.5938,68.9219 C283.5938,68.4844 283.5625,68.3438 283.4844,68.1875 C283.3125,67.9375 283.0313,67.7813 282.75,67.7813 C282.4844,67.7813 282.2188,67.8906 282.0469,68.1406 C281.9375,68.2969 281.9063,68.4375 281.9063,68.9219 L281.9063,69.7969 L277.5469,69.7969 L277.5469,67.375 Z \" fill=\"#000000\"/><text fill=\"#000000\" font-family=\"sans-serif\" font-size=\"14\" lengthAdjust=\"spacing\" textLength=\"100\" x=\"299.25\" y=\"71.3467\">runner_orders</text><line style=\"stroke:#181818;stroke-width:0.5;\" x1=\"230.5\" x2=\"435.5\" y1=\"82.5\" y2=\"82.5\"/><ellipse cx=\"240.5\" cy=\"96.1484\" fill=\"#000000\" rx=\"3\" ry=\"3\" style=\"stroke:#000000;stroke-width:1.0;\"/><text fill=\"#000000\" font-family=\"sans-serif\" font-size=\"14\" lengthAdjust=\"spacing\" textLength=\"121\" x=\"249.5\" y=\"99.4951\">order_id: integer</text><ellipse cx=\"240.5\" cy=\"112.4453\" fill=\"#000000\" rx=\"3\" ry=\"3\" style=\"stroke:#000000;stroke-width:1.0;\"/><text fill=\"#000000\" font-family=\"sans-serif\" font-size=\"14\" lengthAdjust=\"spacing\" textLength=\"129\" x=\"249.5\" y=\"115.792\">runner_id: integer</text><ellipse cx=\"240.5\" cy=\"128.7422\" fill=\"#000000\" rx=\"3\" ry=\"3\" style=\"stroke:#000000;stroke-width:1.0;\"/><text fill=\"#000000\" font-family=\"sans-serif\" font-size=\"14\" lengthAdjust=\"spacing\" textLength=\"180\" x=\"249.5\" y=\"132.0889\">pickup_time: varchar(19)</text><ellipse cx=\"240.5\" cy=\"145.0391\" fill=\"#000000\" rx=\"3\" ry=\"3\" style=\"stroke:#000000;stroke-width:1.0;\"/><text fill=\"#000000\" font-family=\"sans-serif\" font-size=\"14\" lengthAdjust=\"spacing\" textLength=\"142\" x=\"249.5\" y=\"148.3857\">distance: varchar(7)</text><ellipse cx=\"240.5\" cy=\"161.3359\" fill=\"#000000\" rx=\"3\" ry=\"3\" style=\"stroke:#000000;stroke-width:1.0;\"/><text fill=\"#000000\" font-family=\"sans-serif\" font-size=\"14\" lengthAdjust=\"spacing\" textLength=\"150\" x=\"249.5\" y=\"164.6826\">duration: varchar(10)</text><ellipse cx=\"240.5\" cy=\"177.6328\" fill=\"#000000\" rx=\"3\" ry=\"3\" style=\"stroke:#000000;stroke-width:1.0;\"/><text fill=\"#000000\" font-family=\"sans-serif\" font-size=\"14\" lengthAdjust=\"spacing\" textLength=\"181\" x=\"249.5\" y=\"180.9795\">canncelation: varchar(23)</text><line style=\"stroke:#181818;stroke-width:1.0;\" x1=\"230.5\" x2=\"435.5\" y1=\"188.2813\" y2=\"188.2813\"/><ellipse cx=\"240.5\" cy=\"201.9297\" fill=\"#000000\" rx=\"3\" ry=\"3\" style=\"stroke:#000000;stroke-width:1.0;\"/><text fill=\"#000000\" font-family=\"sans-serif\" font-size=\"14\" lengthAdjust=\"spacing\" textLength=\"88\" x=\"249.5\" y=\"205.2764\">PK(order_id)</text><ellipse cx=\"240.5\" cy=\"218.2266\" fill=\"#000000\" rx=\"3\" ry=\"3\" style=\"stroke:#000000;stroke-width:1.0;\"/><text fill=\"#000000\" font-family=\"sans-serif\" font-size=\"14\" lengthAdjust=\"spacing\" textLength=\"95\" x=\"249.5\" y=\"221.5732\">FK(runner_id)</text></g><!--class runners--><g id=\"elem_runners\"><rect codeLine=\"49\" fill=\"#F1F1F1\" height=\"80.5938\" id=\"runners\" rx=\"2.5\" ry=\"2.5\" style=\"stroke:#181818;stroke-width:0.5;\" width=\"193\" x=\"104.5\" y=\"305\"/><ellipse cx=\"169.75\" cy=\"321\" fill=\"#ADD1B2\" rx=\"11\" ry=\"11\" style=\"stroke:#181818;stroke-width:1.0;\"/><path d=\"M168.5469,321.875 L170,321.875 L170,321.9844 C170,322.3906 170.0313,322.5469 170.1094,322.7031 C170.2656,322.9531 170.5469,323.1094 170.8438,323.1094 C171.0938,323.1094 171.3594,322.9688 171.5156,322.75 C171.6406,322.5938 171.6719,322.4375 171.6719,321.9844 L171.6719,320.0625 C171.6719,319.9063 171.6719,319.8594 171.6563,319.7031 C171.5938,319.2344 171.2813,318.9219 170.8281,318.9219 C170.5781,318.9219 170.3125,319.0625 170.1406,319.2813 C170.0313,319.4531 170,319.6094 170,320.0625 L170,320.1875 L168.5469,320.1875 L168.5469,317.7813 L172.5313,317.7813 L172.5313,318.6406 C172.5313,319.0469 172.5625,319.2188 172.6406,319.375 C172.8125,319.625 173.0938,319.7813 173.375,319.7813 C173.6406,319.7813 173.9063,319.6406 174.0781,319.4219 C174.1875,319.25 174.2188,319.1094 174.2188,318.6406 L174.2188,316.0938 L166.5938,316.0938 C166.1563,316.0938 166.0313,316.1094 165.875,316.2031 C165.625,316.3594 165.4688,316.6563 165.4688,316.9375 C165.4688,317.2188 165.6094,317.4688 165.8281,317.6406 C165.9844,317.75 166.1719,317.7813 166.5938,317.7813 L166.8438,317.7813 L166.8438,324.2969 L166.5938,324.2969 C166.1875,324.2969 166.0313,324.3125 165.875,324.4219 C165.625,324.5938 165.4688,324.8594 165.4688,325.1563 C165.4688,325.4219 165.6094,325.6719 165.8281,325.8281 C165.9688,325.9531 166.2031,326 166.5938,326 L174.5938,326 L174.5938,323.4219 C174.5938,322.9844 174.5625,322.8438 174.4844,322.6875 C174.3125,322.4375 174.0313,322.2813 173.75,322.2813 C173.4844,322.2813 173.2188,322.3906 173.0469,322.6406 C172.9375,322.7969 172.9063,322.9375 172.9063,323.4219 L172.9063,324.2969 L168.5469,324.2969 L168.5469,321.875 Z \" fill=\"#000000\"/><text fill=\"#000000\" font-family=\"sans-serif\" font-size=\"14\" lengthAdjust=\"spacing\" textLength=\"54\" x=\"190.25\" y=\"325.8467\">runners</text><line style=\"stroke:#181818;stroke-width:0.5;\" x1=\"105.5\" x2=\"296.5\" y1=\"337\" y2=\"337\"/><ellipse cx=\"115.5\" cy=\"350.6484\" fill=\"#000000\" rx=\"3\" ry=\"3\" style=\"stroke:#000000;stroke-width:1.0;\"/><text fill=\"#000000\" font-family=\"sans-serif\" font-size=\"14\" lengthAdjust=\"spacing\" textLength=\"129\" x=\"124.5\" y=\"353.9951\">runner_id: integer</text><ellipse cx=\"115.5\" cy=\"366.9453\" fill=\"#000000\" rx=\"3\" ry=\"3\" style=\"stroke:#000000;stroke-width:1.0;\"/><text fill=\"#000000\" font-family=\"sans-serif\" font-size=\"14\" lengthAdjust=\"spacing\" textLength=\"167\" x=\"124.5\" y=\"370.292\">registration_date: date</text><line style=\"stroke:#181818;stroke-width:0.5;\" x1=\"105.5\" x2=\"296.5\" y1=\"377.5938\" y2=\"377.5938\"/></g><!--link runner_orders to customer_orders--><g id=\"link_runner_orders_customer_orders\"><path codeLine=\"56\" d=\"M444.947,139.5 C451.112,139.5 457.277,139.5 463.443,139.5 \" fill=\"none\" id=\"runner_orders-customer_orders\" style=\"stroke:#181818;stroke-width:1.0;stroke-dasharray:7.0,7.0;\"/><line style=\"stroke:#181818;stroke-width:1.0;\" x1=\"440.711\" x2=\"440.711\" y1=\"143.5\" y2=\"135.5\"/><line style=\"stroke:#181818;stroke-width:1.0;\" x1=\"443.711\" x2=\"443.711\" y1=\"143.5\" y2=\"135.5\"/><line style=\"stroke:#181818;stroke-width:1.0;\" x1=\"444.711\" x2=\"436.711\" y1=\"139.5\" y2=\"139.5\"/><line style=\"stroke:#181818;stroke-width:1.0;\" x1=\"463.85\" x2=\"471.85\" y1=\"139.5\" y2=\"131.5\"/><line style=\"stroke:#181818;stroke-width:1.0;\" x1=\"463.85\" x2=\"471.85\" y1=\"139.5\" y2=\"147.5\"/><line style=\"stroke:#181818;stroke-width:1.0;\" x1=\"463.85\" x2=\"471.85\" y1=\"139.5\" y2=\"139.5\"/></g><!--link runner_orders to runners--><g id=\"link_runner_orders_runners\"><path codeLine=\"57\" d=\"M271.418,235.671 C257.446,257.266 243.208,279.27 231.224,297.789 \" fill=\"none\" id=\"runner_orders-runners\" style=\"stroke:#181818;stroke-width:1.0;stroke-dasharray:7.0,7.0;\"/><line style=\"stroke:#181818;stroke-width:1.0;\" x1=\"271.5238\" x2=\"269.1552\" y1=\"235.5068\" y2=\"228.791\"/><line style=\"stroke:#181818;stroke-width:1.0;\" x1=\"271.5238\" x2=\"282.5868\" y1=\"235.5068\" y2=\"228.791\"/><line style=\"stroke:#181818;stroke-width:1.0;\" x1=\"271.5238\" x2=\"275.871\" y1=\"235.5068\" y2=\"228.791\"/><line style=\"stroke:#181818;stroke-width:1.0;\" x1=\"232.1083\" x2=\"225.3919\" y1=\"303.7859\" y2=\"299.4397\"/><line style=\"stroke:#181818;stroke-width:1.0;\" x1=\"233.7381\" x2=\"227.0217\" y1=\"301.2672\" y2=\"296.921\"/><line style=\"stroke:#181818;stroke-width:1.0;\" x1=\"230.9232\" x2=\"226.577\" y1=\"298.2546\" y2=\"304.971\"/></g><!--link customer_orders to pizza_name--><g id=\"link_customer_orders_pizza_name\"><path codeLine=\"58\" d=\"M579.801,245.42 C581.34,260.372 582.87,275.24 584.26,288.739 \" fill=\"none\" id=\"customer_orders-pizza_name\" style=\"stroke:#181818;stroke-width:1.0;stroke-dasharray:7.0,7.0;\"/><line style=\"stroke:#181818;stroke-width:1.0;\" x1=\"579.7657\" x2=\"570.989\" y1=\"245.081\" y2=\"237.123\"/><line style=\"stroke:#181818;stroke-width:1.0;\" x1=\"579.7657\" x2=\"586.905\" y1=\"245.081\" y2=\"237.123\"/><line style=\"stroke:#181818;stroke-width:1.0;\" x1=\"579.7657\" x2=\"578.947\" y1=\"245.081\" y2=\"237.123\"/><line style=\"stroke:#181818;stroke-width:1.0;\" x1=\"588.6758\" x2=\"580.7177\" y1=\"292.5667\" y2=\"293.3852\"/><line style=\"stroke:#181818;stroke-width:1.0;\" x1=\"588.3688\" x2=\"580.4108\" y1=\"289.5825\" y2=\"290.401\"/><line style=\"stroke:#181818;stroke-width:1.0;\" x1=\"584.2875\" x2=\"585.106\" y1=\"288.997\" y2=\"296.955\"/></g><!--link customer_orders to pizza_recipes--><g id=\"link_customer_orders_pizza_recipes\"><path codeLine=\"59\" d=\"M486.727,243.467 C473.761,259.694 460.822,275.889 449.221,290.408 \" fill=\"none\" id=\"customer_orders-pizza_recipes\" style=\"stroke:#181818;stroke-width:1.0;stroke-dasharray:7.0,7.0;\"/><line style=\"stroke:#181818;stroke-width:1.0;\" x1=\"486.8019\" x2=\"485.5463\" y1=\"243.3727\" y2=\"237.123\"/><line style=\"stroke:#181818;stroke-width:1.0;\" x1=\"486.8019\" x2=\"498.0457\" y1=\"243.3727\" y2=\"237.123\"/><line style=\"stroke:#181818;stroke-width:1.0;\" x1=\"486.8019\" x2=\"491.796\" y1=\"243.3727\" y2=\"237.123\"/><line style=\"stroke:#181818;stroke-width:1.0;\" x1=\"449.6119\" x2=\"443.3622\" y1=\"296.3272\" y2=\"291.3331\"/><line style=\"stroke:#181818;stroke-width:1.0;\" x1=\"451.4847\" x2=\"445.2349\" y1=\"293.9835\" y2=\"288.9894\"/><line style=\"stroke:#181818;stroke-width:1.0;\" x1=\"448.9841\" x2=\"443.99\" y1=\"290.7053\" y2=\"296.955\"/></g><!--SRC=[bLJBReCm4Bpp5QjS4YebwKkgcdFRIovLVo2op8PO1MFPfcgJyE-riI5s16dA0GdFpExiUfUj92N2v9Lhfd_W0mkYMSNLZWbuOIGtwEIG962UvHJGiXWgc2x17QBJqLhfgaIvgMI6Ki6X1M-W_Tom35R0kCOSfGTwmG0cs7vFXW3yfaMjbFMtWYyYwOx8sMFQergI8S2Po8Z65MXMejAa52qsdyyzvtqzwxnsihVrh7CI70N6tMaJDS8fkEsfwq5SKbnHY5c9iMUAW1xhxFKMOpz3cILI9b1TdLnNGZ2UAvVwtvdhqaVluaI9_U7br47b0rN9clFpiOf7QoYqLutrctxMOcCduJGiTyzfGCcOcH5E0_mfWclPRaaWlmrnIhWH5sUS-uTqlB_nyFNJrXUIZlOcxih5oYNcfZ3dtU-3VOUXxPRBy2VGR_hvYZUB0hTwSJp6TzHourjh5YUM6ebb6QT5-9Fanpn9cby0]--></g></svg>",
      "text/plain": [
       "<IPython.core.display.SVG object>"
      ]
     },
     "execution_count": 6,
     "metadata": {},
     "output_type": "execute_result"
    }
   ],
   "source": [
    "%%plantuml \n",
    "\n",
    "@startuml\n",
    "\n",
    "frame \"Entity Relationship Diagram\"{\n",
    "\n",
    "    /' entities '/ \n",
    "\n",
    "    entity customer_orders {\n",
    "    * order_id : integer\n",
    "    * customer_id : integer\n",
    "    * pizza_id : integer\n",
    "    * exclussions: varchar(4)\n",
    "    * extras: varchar(4)\n",
    "    * order_date: timestamp\n",
    "    ---\n",
    "    * PK(order_id)\n",
    "    * FK(pizza_id)\n",
    "    * FK(customer_id)\n",
    "    }\n",
    "\n",
    "    entity pizza_name {\n",
    "        * pizza_id: integer\n",
    "        * pizza_name: text \n",
    "        ---\n",
    "        * PK(pizza_id)\n",
    "    }\n",
    "\n",
    "    entity pizza_recipes {\n",
    "        * pizza_id: integer\n",
    "        * toppings: text\n",
    "        ---\n",
    "        * PK(pizza_id)\n",
    "    }\n",
    "\n",
    "    enum pizza_toppings {\n",
    "        * topping_id: integer\n",
    "        * topping_name: text\n",
    "    }\n",
    "\n",
    "    entity runner_orders {\n",
    "        * order_id: integer\n",
    "        * runner_id: integer\n",
    "        * pickup_time: varchar(19)\n",
    "        * distance: varchar(7)\n",
    "        * duration: varchar(10)\n",
    "        * canncelation: varchar(23)\n",
    "        ---\n",
    "        * PK(order_id)\n",
    "        * FK(runner_id)\n",
    "    }\n",
    "\n",
    "    entity runners {\n",
    "        * runner_id: integer\n",
    "        * registration_date: date\n",
    "    }\n",
    "\n",
    "     /' relationship '/ \n",
    "\n",
    "    customer_orders }.left.|| runner_orders\n",
    "    runner_orders }..|| runners\n",
    "    customer_orders }..|| pizza_name\n",
    "    customer_orders }..|| pizza_recipes\n",
    "\n",
    "}\n",
    "\n",
    "\n",
    "@enduml"
   ]
  },
  {
   "cell_type": "markdown",
   "metadata": {},
   "source": [
    "## Create and populate schema\n",
    "\n",
    "Create tables:\n",
    "- runners\n",
    "- customer_orders\n",
    "- runner_orders\n",
    "- pizza_names\n",
    "- pizza_recipes\n",
    "- pizza_toppings\n",
    "\n",
    "And populated tables by values"
   ]
  },
  {
   "cell_type": "code",
   "execution_count": 7,
   "metadata": {},
   "outputs": [
    {
     "name": "stdout",
     "output_type": "stream",
     "text": [
      " * sqlite:///pizza_runner.db\n",
      "Done.\n",
      "Done.\n",
      "4 rows affected.\n",
      "Done.\n",
      "Done.\n",
      "14 rows affected.\n",
      "Done.\n",
      "Done.\n",
      "10 rows affected.\n",
      "Done.\n",
      "Done.\n",
      "2 rows affected.\n",
      "Done.\n",
      "Done.\n",
      "2 rows affected.\n",
      "Done.\n",
      "Done.\n",
      "12 rows affected.\n"
     ]
    },
    {
     "data": {
      "text/plain": [
       "[]"
      ]
     },
     "execution_count": 7,
     "metadata": {},
     "output_type": "execute_result"
    }
   ],
   "source": [
    "%%sql\n",
    "\n",
    "DROP TABLE IF EXISTS runners;\n",
    "CREATE TABLE runners (\n",
    "  \"runner_id\" INTEGER,\n",
    "  \"registration_date\" DATE\n",
    ");\n",
    "INSERT INTO runners\n",
    "  (\"runner_id\", \"registration_date\")\n",
    "VALUES\n",
    "  (1, '2021-01-01'),\n",
    "  (2, '2021-01-03'),\n",
    "  (3, '2021-01-08'),\n",
    "  (4, '2021-01-15');\n",
    "\n",
    "\n",
    "DROP TABLE IF EXISTS customer_orders;\n",
    "CREATE TABLE customer_orders (\n",
    "  \"order_id\" INTEGER,\n",
    "  \"customer_id\" INTEGER,\n",
    "  \"pizza_id\" INTEGER,\n",
    "  \"exclusions\" VARCHAR(4),\n",
    "  \"extras\" VARCHAR(4),\n",
    "  \"order_time\" TIMESTAMP\n",
    ");\n",
    "\n",
    "INSERT INTO customer_orders\n",
    "  (\"order_id\", \"customer_id\", \"pizza_id\", \"exclusions\", \"extras\", \"order_time\")\n",
    "VALUES\n",
    "  ('1', '101', '1', '', '', '2020-01-01 18:05:02'),\n",
    "  ('2', '101', '1', '', '', '2020-01-01 19:00:52'),\n",
    "  ('3', '102', '1', '', '', '2020-01-02 23:51:23'),\n",
    "  ('3', '102', '2', '', NULL, '2020-01-02 23:51:23'),\n",
    "  ('4', '103', '1', '4', '', '2020-01-04 13:23:46'),\n",
    "  ('4', '103', '1', '4', '', '2020-01-04 13:23:46'),\n",
    "  ('4', '103', '2', '4', '', '2020-01-04 13:23:46'),\n",
    "  ('5', '104', '1', 'null', '1', '2020-01-08 21:00:29'),\n",
    "  ('6', '101', '2', 'null', 'null', '2020-01-08 21:03:13'),\n",
    "  ('7', '105', '2', 'null', '1', '2020-01-08 21:20:29'),\n",
    "  ('8', '102', '1', 'null', 'null', '2020-01-09 23:54:33'),\n",
    "  ('9', '103', '1', '4', '1, 5', '2020-01-10 11:22:59'),\n",
    "  ('10', '104', '1', 'null', 'null', '2020-01-11 18:34:49'),\n",
    "  ('10', '104', '1', '2, 6', '1, 4', '2020-01-11 18:34:49');\n",
    "\n",
    "\n",
    "DROP TABLE IF EXISTS runner_orders;\n",
    "CREATE TABLE runner_orders (\n",
    "  \"order_id\" INTEGER,\n",
    "  \"runner_id\" INTEGER,\n",
    "  \"pickup_time\" VARCHAR(19),\n",
    "  \"distance\" VARCHAR(7),\n",
    "  \"duration\" VARCHAR(10),\n",
    "  \"cancellation\" VARCHAR(23)\n",
    ");\n",
    "\n",
    "INSERT INTO runner_orders\n",
    "  (\"order_id\", \"runner_id\", \"pickup_time\", \"distance\", \"duration\", \"cancellation\")\n",
    "VALUES\n",
    "  ('1', '1', '2020-01-01 18:15:34', '20km', '32 minutes', ''),\n",
    "  ('2', '1', '2020-01-01 19:10:54', '20km', '27 minutes', ''),\n",
    "  ('3', '1', '2020-01-03 00:12:37', '13.4km', '20 mins', NULL),\n",
    "  ('4', '2', '2020-01-04 13:53:03', '23.4', '40', NULL),\n",
    "  ('5', '3', '2020-01-08 21:10:57', '10', '15', NULL),\n",
    "  ('6', '3', 'null', 'null', 'null', 'Restaurant Cancellation'),\n",
    "  ('7', '2', '2020-01-08 21:30:45', '25km', '25mins', 'null'),\n",
    "  ('8', '2', '2020-01-10 00:15:02', '23.4 km', '15 minute', 'null'),\n",
    "  ('9', '2', 'null', 'null', 'null', 'Customer Cancellation'),\n",
    "  ('10', '1', '2020-01-11 18:50:20', '10km', '10minutes', 'null');\n",
    "\n",
    "\n",
    "DROP TABLE IF EXISTS pizza_names;\n",
    "CREATE TABLE pizza_names (\n",
    "  \"pizza_id\" INTEGER,\n",
    "  \"pizza_name\" TEXT\n",
    ");\n",
    "INSERT INTO pizza_names\n",
    "  (\"pizza_id\", \"pizza_name\")\n",
    "VALUES\n",
    "  (1, 'Meatlovers'),\n",
    "  (2, 'Vegetarian');\n",
    "\n",
    "\n",
    "DROP TABLE IF EXISTS pizza_recipes;\n",
    "CREATE TABLE pizza_recipes (\n",
    "  \"pizza_id\" INTEGER,\n",
    "  \"toppings\" TEXT\n",
    ");\n",
    "INSERT INTO pizza_recipes\n",
    "  (\"pizza_id\", \"toppings\")\n",
    "VALUES\n",
    "  (1, '1, 2, 3, 4, 5, 6, 8, 10'),\n",
    "  (2, '4, 6, 7, 9, 11, 12');\n",
    "\n",
    "\n",
    "DROP TABLE IF EXISTS pizza_toppings;\n",
    "CREATE TABLE pizza_toppings (\n",
    "  \"topping_id\" INTEGER,\n",
    "  \"topping_name\" TEXT\n",
    ");\n",
    "INSERT INTO pizza_toppings\n",
    "  (\"topping_id\", \"topping_name\")\n",
    "VALUES\n",
    "  (1, 'Bacon'),\n",
    "  (2, 'BBQ Sauce'),\n",
    "  (3, 'Beef'),\n",
    "  (4, 'Cheese'),\n",
    "  (5, 'Chicken'),\n",
    "  (6, 'Mushrooms'),\n",
    "  (7, 'Onions'),\n",
    "  (8, 'Pepperoni'),\n",
    "  (9, 'Peppers'),\n",
    "  (10, 'Salami'),\n",
    "  (11, 'Tomatoes'),\n",
    "  (12, 'Tomato Sauce');"
   ]
  },
  {
   "cell_type": "markdown",
   "metadata": {},
   "source": [
    "# A. Pizza Metrics"
   ]
  },
  {
   "cell_type": "markdown",
   "metadata": {},
   "source": [
    "## 1 How many pizzas were ordered?"
   ]
  },
  {
   "cell_type": "code",
   "execution_count": 8,
   "metadata": {},
   "outputs": [
    {
     "name": "stdout",
     "output_type": "stream",
     "text": [
      " * sqlite:///pizza_runner.db\n",
      "Done.\n"
     ]
    },
    {
     "data": {
      "text/html": [
       "<table>\n",
       "    <thead>\n",
       "        <tr>\n",
       "            <th>total_ordered_pizzas</th>\n",
       "        </tr>\n",
       "    </thead>\n",
       "    <tbody>\n",
       "        <tr>\n",
       "            <td>14</td>\n",
       "        </tr>\n",
       "    </tbody>\n",
       "</table>"
      ],
      "text/plain": [
       "[(14,)]"
      ]
     },
     "execution_count": 8,
     "metadata": {},
     "output_type": "execute_result"
    }
   ],
   "source": [
    "%%sql\n",
    "\n",
    "SELECT\n",
    "    COUNT(pizza_id) AS total_ordered_pizzas\n",
    "FROM\n",
    "    customer_orders"
   ]
  },
  {
   "cell_type": "markdown",
   "metadata": {},
   "source": [
    "## 2 How many unique customer orders were made?"
   ]
  },
  {
   "cell_type": "code",
   "execution_count": 9,
   "metadata": {},
   "outputs": [
    {
     "name": "stdout",
     "output_type": "stream",
     "text": [
      " * sqlite:///pizza_runner.db\n",
      "Done.\n"
     ]
    },
    {
     "data": {
      "text/html": [
       "<table>\n",
       "    <thead>\n",
       "        <tr>\n",
       "            <th>unique_customers_orders</th>\n",
       "        </tr>\n",
       "    </thead>\n",
       "    <tbody>\n",
       "        <tr>\n",
       "            <td>10</td>\n",
       "        </tr>\n",
       "    </tbody>\n",
       "</table>"
      ],
      "text/plain": [
       "[(10,)]"
      ]
     },
     "execution_count": 9,
     "metadata": {},
     "output_type": "execute_result"
    }
   ],
   "source": [
    "%%sql\n",
    "\n",
    "SELECT\n",
    "    COUNT(DISTINCT order_id) AS unique_customers_orders\n",
    "FROM\n",
    "    customer_orders"
   ]
  },
  {
   "cell_type": "markdown",
   "metadata": {},
   "source": [
    "## 3 How many successful orders were delivered by each runner?"
   ]
  },
  {
   "cell_type": "code",
   "execution_count": 10,
   "metadata": {},
   "outputs": [
    {
     "name": "stdout",
     "output_type": "stream",
     "text": [
      " * sqlite:///pizza_runner.db\n",
      "Done.\n"
     ]
    },
    {
     "data": {
      "text/html": [
       "<table>\n",
       "    <thead>\n",
       "        <tr>\n",
       "            <th>total_successful_delivered</th>\n",
       "        </tr>\n",
       "    </thead>\n",
       "    <tbody>\n",
       "        <tr>\n",
       "            <td>8</td>\n",
       "        </tr>\n",
       "    </tbody>\n",
       "</table>"
      ],
      "text/plain": [
       "[(8,)]"
      ]
     },
     "execution_count": 10,
     "metadata": {},
     "output_type": "execute_result"
    }
   ],
   "source": [
    "%%sql\n",
    "\n",
    "WITH successful_delivered AS(\n",
    "    SELECT *\n",
    "    FROM\n",
    "        runner_orders\n",
    "    WHERE \n",
    "        cancellation IN (\"\", \"null\") \n",
    "        OR cancellation IS NULL\n",
    ")\n",
    "\n",
    "SELECT\n",
    "    COUNT(order_id) AS total_successful_delivered\n",
    "FROM\n",
    "    successful_delivered"
   ]
  },
  {
   "cell_type": "markdown",
   "metadata": {},
   "source": [
    "## 4 How many of each type of pizza was delivered?"
   ]
  },
  {
   "cell_type": "code",
   "execution_count": 11,
   "metadata": {},
   "outputs": [
    {
     "name": "stdout",
     "output_type": "stream",
     "text": [
      " * sqlite:///pizza_runner.db\n",
      "Done.\n"
     ]
    },
    {
     "data": {
      "text/html": [
       "<table>\n",
       "    <thead>\n",
       "        <tr>\n",
       "            <th>pizza_id</th>\n",
       "            <th>total_delivered</th>\n",
       "        </tr>\n",
       "    </thead>\n",
       "    <tbody>\n",
       "        <tr>\n",
       "            <td>1</td>\n",
       "            <td>9</td>\n",
       "        </tr>\n",
       "        <tr>\n",
       "            <td>2</td>\n",
       "            <td>3</td>\n",
       "        </tr>\n",
       "    </tbody>\n",
       "</table>"
      ],
      "text/plain": [
       "[(1, 9), (2, 3)]"
      ]
     },
     "execution_count": 11,
     "metadata": {},
     "output_type": "execute_result"
    }
   ],
   "source": [
    "%%sql\n",
    "\n",
    "WITH delivered_order_types AS(\n",
    "    SELECT\n",
    "        ro.order_id\n",
    "        , co.pizza_id\n",
    "    FROM\n",
    "        customer_orders AS co \n",
    "    LEFT JOIN runner_orders AS ro ON co.order_id = ro.order_id\n",
    "    WHERE\n",
    "        cancellation IN (\"\", \"null\") \n",
    "        OR cancellation IS NULL\n",
    ")\n",
    "\n",
    "SELECT \n",
    "    pizza_id\n",
    "    , COUNT(order_id) AS total_delivered\n",
    "FROM\n",
    "    delivered_order_types\n",
    "GROUP BY pizza_id\n",
    "\n",
    "    "
   ]
  },
  {
   "cell_type": "markdown",
   "metadata": {},
   "source": [
    "## 5 How many Vegetarian and Meatlovers were ordered by each customer?"
   ]
  },
  {
   "cell_type": "code",
   "execution_count": 12,
   "metadata": {},
   "outputs": [
    {
     "name": "stdout",
     "output_type": "stream",
     "text": [
      " * sqlite:///pizza_runner.db\n",
      "Done.\n"
     ]
    },
    {
     "data": {
      "text/html": [
       "<table>\n",
       "    <thead>\n",
       "        <tr>\n",
       "            <th>customer_id</th>\n",
       "            <th>pizza_name</th>\n",
       "            <th>total_ordered</th>\n",
       "        </tr>\n",
       "    </thead>\n",
       "    <tbody>\n",
       "        <tr>\n",
       "            <td>101</td>\n",
       "            <td>Meatlovers</td>\n",
       "            <td>2</td>\n",
       "        </tr>\n",
       "        <tr>\n",
       "            <td>101</td>\n",
       "            <td>Vegetarian</td>\n",
       "            <td>1</td>\n",
       "        </tr>\n",
       "        <tr>\n",
       "            <td>102</td>\n",
       "            <td>Meatlovers</td>\n",
       "            <td>2</td>\n",
       "        </tr>\n",
       "        <tr>\n",
       "            <td>102</td>\n",
       "            <td>Vegetarian</td>\n",
       "            <td>1</td>\n",
       "        </tr>\n",
       "        <tr>\n",
       "            <td>103</td>\n",
       "            <td>Meatlovers</td>\n",
       "            <td>3</td>\n",
       "        </tr>\n",
       "        <tr>\n",
       "            <td>103</td>\n",
       "            <td>Vegetarian</td>\n",
       "            <td>1</td>\n",
       "        </tr>\n",
       "        <tr>\n",
       "            <td>104</td>\n",
       "            <td>Meatlovers</td>\n",
       "            <td>3</td>\n",
       "        </tr>\n",
       "        <tr>\n",
       "            <td>105</td>\n",
       "            <td>Vegetarian</td>\n",
       "            <td>1</td>\n",
       "        </tr>\n",
       "    </tbody>\n",
       "</table>"
      ],
      "text/plain": [
       "[(101, 'Meatlovers', 2),\n",
       " (101, 'Vegetarian', 1),\n",
       " (102, 'Meatlovers', 2),\n",
       " (102, 'Vegetarian', 1),\n",
       " (103, 'Meatlovers', 3),\n",
       " (103, 'Vegetarian', 1),\n",
       " (104, 'Meatlovers', 3),\n",
       " (105, 'Vegetarian', 1)]"
      ]
     },
     "execution_count": 12,
     "metadata": {},
     "output_type": "execute_result"
    }
   ],
   "source": [
    "%%sql\n",
    "\n",
    "SELECT\n",
    "    co.customer_id\n",
    "    , pn.pizza_name\n",
    "    , COUNT(pn.pizza_name) AS total_ordered\n",
    "FROM\n",
    "    customer_orders AS co \n",
    "LEFT JOIN pizza_names AS pn ON co.pizza_id = pn.pizza_id\n",
    "GROUP BY \n",
    "    co.customer_id\n",
    "    , pn.pizza_id"
   ]
  },
  {
   "cell_type": "markdown",
   "metadata": {},
   "source": [
    "## 6 What was the maximum number of pizzas delivered in a single order?"
   ]
  },
  {
   "cell_type": "code",
   "execution_count": 13,
   "metadata": {},
   "outputs": [
    {
     "name": "stdout",
     "output_type": "stream",
     "text": [
      " * sqlite:///pizza_runner.db\n",
      "Done.\n"
     ]
    },
    {
     "data": {
      "text/html": [
       "<table>\n",
       "    <thead>\n",
       "        <tr>\n",
       "            <th>max_pizzas_delivered</th>\n",
       "        </tr>\n",
       "    </thead>\n",
       "    <tbody>\n",
       "        <tr>\n",
       "            <td>3</td>\n",
       "        </tr>\n",
       "    </tbody>\n",
       "</table>"
      ],
      "text/plain": [
       "[(3,)]"
      ]
     },
     "execution_count": 13,
     "metadata": {},
     "output_type": "execute_result"
    }
   ],
   "source": [
    "%%sql \n",
    "\n",
    "WITH count_pizzas AS(\n",
    "    SELECT\n",
    "        co.order_id\n",
    "        , COUNT(co.pizza_id) AS pizza_number\n",
    "    FROM\n",
    "        customer_orders AS co \n",
    "    LEFT JOIN runner_orders AS ro ON co.order_id = ro.order_id\n",
    "    WHERE\n",
    "        cancellation IN (\"\", \"null\") \n",
    "        OR cancellation IS NULL\n",
    "    GROUP BY \n",
    "        co.order_id\n",
    ")\n",
    "\n",
    "SELECT \n",
    "    MAX(pizza_number) AS max_pizzas_delivered\n",
    "FROM\n",
    "    count_pizzas"
   ]
  },
  {
   "cell_type": "markdown",
   "metadata": {},
   "source": [
    "## 7 For each customer, how many delivered pizzas had at least 1 change and how many had no changes?"
   ]
  },
  {
   "cell_type": "code",
   "execution_count": 14,
   "metadata": {},
   "outputs": [
    {
     "name": "stdout",
     "output_type": "stream",
     "text": [
      " * sqlite:///pizza_runner.db\n",
      "Done.\n"
     ]
    },
    {
     "data": {
      "text/html": [
       "<table>\n",
       "    <thead>\n",
       "        <tr>\n",
       "            <th>customer_id</th>\n",
       "            <th>total_changed</th>\n",
       "            <th>total_not_changed</th>\n",
       "        </tr>\n",
       "    </thead>\n",
       "    <tbody>\n",
       "        <tr>\n",
       "            <td>101</td>\n",
       "            <td>None</td>\n",
       "            <td>2</td>\n",
       "        </tr>\n",
       "        <tr>\n",
       "            <td>102</td>\n",
       "            <td>None</td>\n",
       "            <td>3</td>\n",
       "        </tr>\n",
       "        <tr>\n",
       "            <td>103</td>\n",
       "            <td>3</td>\n",
       "            <td>None</td>\n",
       "        </tr>\n",
       "        <tr>\n",
       "            <td>104</td>\n",
       "            <td>2</td>\n",
       "            <td>1</td>\n",
       "        </tr>\n",
       "        <tr>\n",
       "            <td>105</td>\n",
       "            <td>1</td>\n",
       "            <td>None</td>\n",
       "        </tr>\n",
       "    </tbody>\n",
       "</table>"
      ],
      "text/plain": [
       "[(101, None, 2), (102, None, 3), (103, 3, None), (104, 2, 1), (105, 1, None)]"
      ]
     },
     "execution_count": 14,
     "metadata": {},
     "output_type": "execute_result"
    }
   ],
   "source": [
    "%%sql\n",
    "\n",
    "WITH delivered_orders AS (\n",
    "    SELECT\n",
    "        ro.order_id\n",
    "        , co.pizza_id\n",
    "        , co.customer_id\n",
    "        , co.exclusions\n",
    "        , co.extras\n",
    "    FROM\n",
    "        customer_orders AS co \n",
    "    LEFT JOIN runner_orders AS ro ON co.order_id = ro.order_id\n",
    "    WHERE \n",
    "        cancellation IN (\"\", \"null\") \n",
    "        OR cancellation IS NULL\n",
    "),\n",
    "\n",
    "changed_pizza AS (\n",
    "    SELECT \n",
    "        customer_id\n",
    "        , COUNT(pizza_id) AS total_changed\n",
    "    FROM\n",
    "        delivered_orders\n",
    "    WHERE\n",
    "        (exclusions NOT IN (\"\", \"null\") AND exclusions IS NOT NULL)\n",
    "        OR (extras NOT IN (\"\", \"null\") AND extras IS NOT NULL)\n",
    "    GROUP BY \n",
    "        customer_id\n",
    "),\n",
    "\n",
    "not_changed_pizza AS (\n",
    "    SELECT \n",
    "        customer_id\n",
    "        , COUNT(pizza_id) AS total_not_changed\n",
    "    FROM\n",
    "        delivered_orders\n",
    "    WHERE\n",
    "        (exclusions IN (\"\", \"null\") OR exclusions IS NULL)\n",
    "        AND (extras IN (\"\", \"null\") OR extras IS NULL)\n",
    "    GROUP BY \n",
    "        customer_id\n",
    ")\n",
    "\n",
    "SELECT DISTINCT\n",
    "    co.customer_id\n",
    "    , cp.total_changed\n",
    "    , ncp.total_not_changed\n",
    "FROM\n",
    "    customer_orders AS co \n",
    "LEFT JOIN changed_pizza AS cp ON cp.customer_id = co.customer_id\n",
    "LEFT JOIN not_changed_pizza AS ncp ON ncp.customer_id = co.customer_id\n",
    "\n",
    "\n"
   ]
  },
  {
   "cell_type": "markdown",
   "metadata": {},
   "source": [
    "## 8 How many pizzas were delivered that had both exclusions and extras?"
   ]
  },
  {
   "cell_type": "code",
   "execution_count": 15,
   "metadata": {},
   "outputs": [
    {
     "name": "stdout",
     "output_type": "stream",
     "text": [
      " * sqlite:///pizza_runner.db\n",
      "Done.\n"
     ]
    },
    {
     "data": {
      "text/html": [
       "<table>\n",
       "    <thead>\n",
       "        <tr>\n",
       "            <th>total_exclussions_extras</th>\n",
       "        </tr>\n",
       "    </thead>\n",
       "    <tbody>\n",
       "        <tr>\n",
       "            <td>1</td>\n",
       "        </tr>\n",
       "    </tbody>\n",
       "</table>"
      ],
      "text/plain": [
       "[(1,)]"
      ]
     },
     "execution_count": 15,
     "metadata": {},
     "output_type": "execute_result"
    }
   ],
   "source": [
    "%%sql\n",
    "\n",
    "WITH delivered_orders AS (\n",
    "    SELECT\n",
    "        ro.order_id\n",
    "        , co.pizza_id\n",
    "        , co.customer_id\n",
    "        , co.exclusions\n",
    "        , co.extras\n",
    "    FROM\n",
    "        customer_orders AS co \n",
    "    LEFT JOIN runner_orders AS ro ON co.order_id = ro.order_id\n",
    "    WHERE \n",
    "        cancellation IN (\"\", \"null\") \n",
    "        OR cancellation IS NULL\n",
    ")\n",
    "\n",
    "SELECT \n",
    "    COUNT(pizza_id) AS total_exclussions_extras\n",
    "FROM\n",
    "    delivered_orders\n",
    "WHERE\n",
    "    (exclusions NOT IN (\"\", \"null\") AND exclusions IS NOT NULL)\n",
    "    AND (extras NOT IN (\"\", \"null\") AND extras IS NOT NULL)\n"
   ]
  },
  {
   "cell_type": "markdown",
   "metadata": {},
   "source": [
    "## 9 What was the total volume of pizzas ordered for each hour of the day?"
   ]
  },
  {
   "cell_type": "code",
   "execution_count": 16,
   "metadata": {},
   "outputs": [
    {
     "name": "stdout",
     "output_type": "stream",
     "text": [
      " * sqlite:///pizza_runner.db\n",
      "Done.\n"
     ]
    },
    {
     "data": {
      "text/html": [
       "<table>\n",
       "    <thead>\n",
       "        <tr>\n",
       "            <th>hour_of_day</th>\n",
       "            <th>total_orders</th>\n",
       "        </tr>\n",
       "    </thead>\n",
       "    <tbody>\n",
       "        <tr>\n",
       "            <td>23</td>\n",
       "            <td>3</td>\n",
       "        </tr>\n",
       "        <tr>\n",
       "            <td>21</td>\n",
       "            <td>3</td>\n",
       "        </tr>\n",
       "        <tr>\n",
       "            <td>18</td>\n",
       "            <td>3</td>\n",
       "        </tr>\n",
       "        <tr>\n",
       "            <td>13</td>\n",
       "            <td>3</td>\n",
       "        </tr>\n",
       "        <tr>\n",
       "            <td>19</td>\n",
       "            <td>1</td>\n",
       "        </tr>\n",
       "        <tr>\n",
       "            <td>11</td>\n",
       "            <td>1</td>\n",
       "        </tr>\n",
       "    </tbody>\n",
       "</table>"
      ],
      "text/plain": [
       "[('23', 3), ('21', 3), ('18', 3), ('13', 3), ('19', 1), ('11', 1)]"
      ]
     },
     "execution_count": 16,
     "metadata": {},
     "output_type": "execute_result"
    }
   ],
   "source": [
    "%%sql\n",
    "\n",
    "SELECT\n",
    "    STRFTIME(\"%H\",order_time) AS hour_of_day\n",
    "    , COUNT(STRFTIME(\"%H\",order_time)) AS total_orders\n",
    "FROM\n",
    "    customer_orders\n",
    "GROUP BY \n",
    "    STRFTIME(\"%H\",order_time)\n",
    "ORDER BY \n",
    "    total_orders DESC"
   ]
  },
  {
   "cell_type": "markdown",
   "metadata": {},
   "source": [
    "## 10 What was the volume of orders for each day of the week?"
   ]
  },
  {
   "cell_type": "code",
   "execution_count": 17,
   "metadata": {},
   "outputs": [
    {
     "name": "stdout",
     "output_type": "stream",
     "text": [
      " * sqlite:///pizza_runner.db\n",
      "Done.\n"
     ]
    },
    {
     "data": {
      "text/html": [
       "<table>\n",
       "    <thead>\n",
       "        <tr>\n",
       "            <th>day_of_week</th>\n",
       "            <th>total_orders</th>\n",
       "        </tr>\n",
       "    </thead>\n",
       "    <tbody>\n",
       "        <tr>\n",
       "            <td>Wednesday</td>\n",
       "            <td>5</td>\n",
       "        </tr>\n",
       "        <tr>\n",
       "            <td>Saturday</td>\n",
       "            <td>5</td>\n",
       "        </tr>\n",
       "        <tr>\n",
       "            <td>Thursday</td>\n",
       "            <td>3</td>\n",
       "        </tr>\n",
       "        <tr>\n",
       "            <td>Friday</td>\n",
       "            <td>1</td>\n",
       "        </tr>\n",
       "    </tbody>\n",
       "</table>"
      ],
      "text/plain": [
       "[('Wednesday', 5), ('Saturday', 5), ('Thursday', 3), ('Friday', 1)]"
      ]
     },
     "execution_count": 17,
     "metadata": {},
     "output_type": "execute_result"
    }
   ],
   "source": [
    "%%sql \n",
    "\n",
    "SELECT\n",
    "    CASE\n",
    "        WHEN STRFTIME(\"%w\", order_time) = \"0\" THEN \"Sunday\"\n",
    "        WHEN STRFTIME(\"%w\", order_time) = \"1\" THEN \"Monday\"\n",
    "        WHEN STRFTIME(\"%w\", order_time) = \"2\" THEN \"Tuesday\"\n",
    "        WHEN STRFTIME(\"%w\", order_time) = \"3\" THEN \"Wednesday\"\n",
    "        WHEN STRFTIME(\"%w\", order_time) = \"4\" THEN \"Thursday\"\n",
    "        WHEN STRFTIME(\"%w\", order_time) = \"5\" THEN \"Friday\"\n",
    "        WHEN STRFTIME(\"%w\", order_time) = \"6\" THEN \"Saturday\"\n",
    "    END AS day_of_week\n",
    "    , COUNT(STRFTIME(\"%w\", order_time)) AS total_orders\n",
    "FROM\n",
    "    customer_orders\n",
    "GROUP BY \n",
    "    day_of_week\n",
    "ORDER BY \n",
    "    total_orders DESC"
   ]
  },
  {
   "cell_type": "markdown",
   "metadata": {},
   "source": [
    "# B. Runner and Customer Experience"
   ]
  },
  {
   "cell_type": "markdown",
   "metadata": {},
   "source": [
    "## 1 How many runners signed up for each 1 week period? (i.e. week starts 2021-01-01)"
   ]
  },
  {
   "cell_type": "code",
   "execution_count": 18,
   "metadata": {},
   "outputs": [
    {
     "name": "stdout",
     "output_type": "stream",
     "text": [
      " * sqlite:///pizza_runner.db\n",
      "Done.\n"
     ]
    },
    {
     "data": {
      "text/html": [
       "<table>\n",
       "    <thead>\n",
       "        <tr>\n",
       "            <th>week_of_year</th>\n",
       "            <th>total_signedup</th>\n",
       "        </tr>\n",
       "    </thead>\n",
       "    <tbody>\n",
       "        <tr>\n",
       "            <td>1</td>\n",
       "            <td>2</td>\n",
       "        </tr>\n",
       "        <tr>\n",
       "            <td>2</td>\n",
       "            <td>1</td>\n",
       "        </tr>\n",
       "        <tr>\n",
       "            <td>3</td>\n",
       "            <td>1</td>\n",
       "        </tr>\n",
       "    </tbody>\n",
       "</table>"
      ],
      "text/plain": [
       "[(1, 2), (2, 1), (3, 1)]"
      ]
     },
     "execution_count": 18,
     "metadata": {},
     "output_type": "execute_result"
    }
   ],
   "source": [
    "%%sql \n",
    "\n",
    "SELECT\n",
    "    CAST(STRFTIME(\"%W\", registration_date) AS int) + 1 AS week_of_year\n",
    "    , COUNT(runner_id) AS total_signedup\n",
    "FROM \n",
    "    runners\n",
    "GROUP BY \n",
    "    week_of_year"
   ]
  },
  {
   "cell_type": "markdown",
   "metadata": {},
   "source": [
    "## 2 What was the average time in minutes it took for each runner to arrive at the Pizza Runner HQ to pickup the order?"
   ]
  },
  {
   "cell_type": "code",
   "execution_count": 19,
   "metadata": {},
   "outputs": [
    {
     "name": "stdout",
     "output_type": "stream",
     "text": [
      " * sqlite:///pizza_runner.db\n",
      "Done.\n"
     ]
    },
    {
     "data": {
      "text/html": [
       "<table>\n",
       "    <thead>\n",
       "        <tr>\n",
       "            <th>runner_id</th>\n",
       "            <th>pickup_time</th>\n",
       "        </tr>\n",
       "    </thead>\n",
       "    <tbody>\n",
       "        <tr>\n",
       "            <td>1</td>\n",
       "            <td>15.68</td>\n",
       "        </tr>\n",
       "        <tr>\n",
       "            <td>2</td>\n",
       "            <td>23.72</td>\n",
       "        </tr>\n",
       "        <tr>\n",
       "            <td>3</td>\n",
       "            <td>10.47</td>\n",
       "        </tr>\n",
       "    </tbody>\n",
       "</table>"
      ],
      "text/plain": [
       "[(1, 15.68), (2, 23.72), (3, 10.47)]"
      ]
     },
     "execution_count": 19,
     "metadata": {},
     "output_type": "execute_result"
    }
   ],
   "source": [
    "%%sql \n",
    "\n",
    "SELECT \n",
    "    ro.runner_id\n",
    "    , ROUND(AVG((STRFTIME(\"%J\", ro.pickup_time) - STRFTIME(\"%J\", co.order_time)) * 1440),2) AS pickup_time\n",
    "FROM \n",
    "    customer_orders AS co\n",
    "LEFT JOIN runner_orders AS ro ON co.order_id = ro.order_id\n",
    "GROUP BY \n",
    "    ro.runner_id"
   ]
  },
  {
   "cell_type": "markdown",
   "metadata": {},
   "source": [
    "## 3 Is there any relationship between the number of pizzas and how long the order takes to prepare?"
   ]
  },
  {
   "cell_type": "code",
   "execution_count": 20,
   "metadata": {},
   "outputs": [
    {
     "name": "stdout",
     "output_type": "stream",
     "text": [
      " * sqlite:///pizza_runner.db\n",
      "Done.\n"
     ]
    },
    {
     "data": {
      "text/html": [
       "<table>\n",
       "    <thead>\n",
       "        <tr>\n",
       "            <th>number_of_pizzas</th>\n",
       "            <th>preparation_time</th>\n",
       "        </tr>\n",
       "    </thead>\n",
       "    <tbody>\n",
       "        <tr>\n",
       "            <td>3</td>\n",
       "            <td>29.28</td>\n",
       "        </tr>\n",
       "        <tr>\n",
       "            <td>2</td>\n",
       "            <td>18.37</td>\n",
       "        </tr>\n",
       "        <tr>\n",
       "            <td>1</td>\n",
       "            <td>12.36</td>\n",
       "        </tr>\n",
       "    </tbody>\n",
       "</table>"
      ],
      "text/plain": [
       "[(3, 29.28), (2, 18.37), (1, 12.36)]"
      ]
     },
     "execution_count": 20,
     "metadata": {},
     "output_type": "execute_result"
    }
   ],
   "source": [
    "%%sql \n",
    "\n",
    "WITH agg_orders AS (\n",
    "    SELECT \n",
    "        order_id\n",
    "        , order_time\n",
    "        , COUNT(pizza_id) AS number_of_pizzas\n",
    "    FROM\n",
    "        customer_orders\n",
    "    GROUP BY \n",
    "        order_id\n",
    "        , order_time\n",
    ")\n",
    "\n",
    "SELECT \n",
    "    ao.number_of_pizzas\n",
    "    , ROUND(AVG((STRFTIME(\"%J\", ro.pickup_time) - STRFTIME(\"%J\",ao.order_time)) * 1440),2) AS preparation_time\n",
    "FROM \n",
    "    agg_orders AS ao\n",
    "LEFT JOIN runner_orders AS ro ON ao.order_id = ro.order_id\n",
    "GROUP BY \n",
    "    ao.number_of_pizzas\n",
    "HAVING \n",
    "    preparation_time IS NOT NULL\n",
    "ORDER BY \n",
    "    ao.number_of_pizzas DESC"
   ]
  },
  {
   "cell_type": "markdown",
   "metadata": {},
   "source": [
    "## 4 What was the average distance travelled for each customer?"
   ]
  },
  {
   "cell_type": "code",
   "execution_count": 21,
   "metadata": {},
   "outputs": [
    {
     "name": "stdout",
     "output_type": "stream",
     "text": [
      " * sqlite:///pizza_runner.db\n",
      "Done.\n"
     ]
    },
    {
     "data": {
      "text/html": [
       "<table>\n",
       "    <thead>\n",
       "        <tr>\n",
       "            <th>customer_id</th>\n",
       "            <th>average_distance</th>\n",
       "        </tr>\n",
       "    </thead>\n",
       "    <tbody>\n",
       "        <tr>\n",
       "            <td>101</td>\n",
       "            <td>20.0</td>\n",
       "        </tr>\n",
       "        <tr>\n",
       "            <td>102</td>\n",
       "            <td>16.73</td>\n",
       "        </tr>\n",
       "        <tr>\n",
       "            <td>103</td>\n",
       "            <td>23.4</td>\n",
       "        </tr>\n",
       "        <tr>\n",
       "            <td>104</td>\n",
       "            <td>10.0</td>\n",
       "        </tr>\n",
       "        <tr>\n",
       "            <td>105</td>\n",
       "            <td>25.0</td>\n",
       "        </tr>\n",
       "    </tbody>\n",
       "</table>"
      ],
      "text/plain": [
       "[(101, 20.0), (102, 16.73), (103, 23.4), (104, 10.0), (105, 25.0)]"
      ]
     },
     "execution_count": 21,
     "metadata": {},
     "output_type": "execute_result"
    }
   ],
   "source": [
    "%%sql \n",
    "\n",
    "WITH customer_distance AS (\n",
    "    SELECT \n",
    "        ro.order_id\n",
    "        ,co.customer_id\n",
    "        , CAST(REPLACE(ro.distance, \"km\", \"\") AS DECIMAL(18,2)) AS distance_km\n",
    "    FROM \n",
    "        runner_orders AS ro\n",
    "    LEFT JOIN customer_orders AS co ON co.order_id = ro.order_id\n",
    "    WHERE \n",
    "        distance_km != 0\n",
    ")\n",
    "\n",
    "SELECT \n",
    "    customer_id\n",
    "    , ROUND(AVG(distance_km),2) AS average_distance\n",
    "FROM\n",
    "    customer_distance\n",
    "GROUP BY \n",
    "    customer_id"
   ]
  },
  {
   "cell_type": "markdown",
   "metadata": {},
   "source": [
    "## 5 What was the difference between the longest and shortest delivery times for all orders?"
   ]
  },
  {
   "cell_type": "code",
   "execution_count": 22,
   "metadata": {},
   "outputs": [
    {
     "name": "stdout",
     "output_type": "stream",
     "text": [
      " * sqlite:///pizza_runner.db\n",
      "Done.\n"
     ]
    },
    {
     "data": {
      "text/html": [
       "<table>\n",
       "    <thead>\n",
       "        <tr>\n",
       "            <th>difference</th>\n",
       "        </tr>\n",
       "    </thead>\n",
       "    <tbody>\n",
       "        <tr>\n",
       "            <td>30</td>\n",
       "        </tr>\n",
       "    </tbody>\n",
       "</table>"
      ],
      "text/plain": [
       "[(30,)]"
      ]
     },
     "execution_count": 22,
     "metadata": {},
     "output_type": "execute_result"
    }
   ],
   "source": [
    "%%sql\n",
    "\n",
    "WITH delivery_time AS (\n",
    "    SELECT\n",
    "        order_id\n",
    "        , CAST(REPLACE(REPLACE(REPLACE(duration, \"minutes\", \"\"), \"mins\", \"\"), \"minute\", \"\") AS INTEGER) AS duration_min\n",
    "    FROM \n",
    "        runner_orders\n",
    "    WHERE \n",
    "        duration_min != 0\n",
    ")\n",
    "\n",
    "SELECT \n",
    "    MAX(duration_min) - MIN(duration_min) AS difference\n",
    "FROM \n",
    "    delivery_time"
   ]
  },
  {
   "cell_type": "markdown",
   "metadata": {},
   "source": [
    "## 6 What was the average speed for each runner for each delivery and do you notice any trend for these values?"
   ]
  },
  {
   "cell_type": "code",
   "execution_count": 23,
   "metadata": {},
   "outputs": [
    {
     "name": "stdout",
     "output_type": "stream",
     "text": [
      " * sqlite:///pizza_runner.db\n",
      "Done.\n"
     ]
    },
    {
     "data": {
      "text/html": [
       "<table>\n",
       "    <thead>\n",
       "        <tr>\n",
       "            <th>runner_id</th>\n",
       "            <th>av_distance</th>\n",
       "            <th>av_duration_hours</th>\n",
       "            <th>av_speed</th>\n",
       "        </tr>\n",
       "    </thead>\n",
       "    <tbody>\n",
       "        <tr>\n",
       "            <td>1</td>\n",
       "            <td>15.85</td>\n",
       "            <td>0.37</td>\n",
       "            <td>42.74</td>\n",
       "        </tr>\n",
       "        <tr>\n",
       "            <td>2</td>\n",
       "            <td>23.93</td>\n",
       "            <td>0.44</td>\n",
       "            <td>53.85</td>\n",
       "        </tr>\n",
       "        <tr>\n",
       "            <td>3</td>\n",
       "            <td>10.0</td>\n",
       "            <td>0.25</td>\n",
       "            <td>40.0</td>\n",
       "        </tr>\n",
       "    </tbody>\n",
       "</table>"
      ],
      "text/plain": [
       "[(1, 15.85, 0.37, 42.74), (2, 23.93, 0.44, 53.85), (3, 10.0, 0.25, 40.0)]"
      ]
     },
     "execution_count": 23,
     "metadata": {},
     "output_type": "execute_result"
    }
   ],
   "source": [
    "%%sql \n",
    "\n",
    "WITH distance_time AS (\n",
    "    SELECT \n",
    "        runner_id\n",
    "        , CAST(REPLACE(distance, \"km\", \"\") AS DECIMAL(18,2)) AS distance_km\n",
    "        , CAST(REPLACE(REPLACE(REPLACE(duration, \"minutes\", \"\"), \"mins\", \"\"), \"minute\", \"\") AS INTEGER) AS duration_min\n",
    "    FROM \n",
    "        runner_orders\n",
    "    WHERE\n",
    "        distance_km != 0\n",
    "        AND duration_min != 0\n",
    ")\n",
    "\n",
    "SELECT \n",
    "    runner_id\n",
    "    , ROUND(AVG(distance_km),2) AS av_distance\n",
    "    , ROUND(AVG(duration_min) / 60, 2)  AS av_duration_hours\n",
    "    , ROUND(AVG(distance_km) / (AVG(duration_min) / 60),2) AS av_speed\n",
    "FROM \n",
    "    distance_time\n",
    "GROUP BY \n",
    "    runner_id"
   ]
  },
  {
   "cell_type": "markdown",
   "metadata": {},
   "source": [
    "We can see correlation between distance and average speed here. But let´s go deeper and take a look on initial data"
   ]
  },
  {
   "cell_type": "code",
   "execution_count": 24,
   "metadata": {},
   "outputs": [
    {
     "name": "stdout",
     "output_type": "stream",
     "text": [
      " * sqlite:///pizza_runner.db\n",
      "Done.\n",
      "(sqlite3.OperationalError) view runner_distance already exists\n",
      "[SQL: CREATE VIEW runner_distance AS \n",
      "\n",
      "SELECT \n",
      "    runner_id\n",
      "    , CAST(REPLACE(distance, \"km\", \"\") AS DECIMAL(18,2)) AS distance_km\n",
      "    , CAST(REPLACE(REPLACE(REPLACE(duration, \"minutes\", \"\"), \"mins\", \"\"), \"minute\", \"\") AS INTEGER) AS duration_min\n",
      "FROM \n",
      "    runner_orders\n",
      "WHERE\n",
      "    distance_km != 0\n",
      "    AND duration_min != 0]\n",
      "(Background on this error at: https://sqlalche.me/e/20/e3q8)\n"
     ]
    }
   ],
   "source": [
    "%%sql\n",
    "\n",
    "DROP VIEW IF EXISTS joined_things;\n",
    "CREATE VIEW runner_distance AS \n",
    "\n",
    "SELECT \n",
    "    runner_id\n",
    "    , CAST(REPLACE(distance, \"km\", \"\") AS DECIMAL(18,2)) AS distance_km\n",
    "    , CAST(REPLACE(REPLACE(REPLACE(duration, \"minutes\", \"\"), \"mins\", \"\"), \"minute\", \"\") AS INTEGER) AS duration_min\n",
    "FROM \n",
    "    runner_orders\n",
    "WHERE\n",
    "    distance_km != 0\n",
    "    AND duration_min != 0"
   ]
  },
  {
   "cell_type": "markdown",
   "metadata": {},
   "source": [
    "Let´s use python magic to understand some possible correlations"
   ]
  },
  {
   "cell_type": "code",
   "execution_count": 25,
   "metadata": {},
   "outputs": [],
   "source": [
    "import matplotlib.pyplot as plt\n",
    "import numpy as np\n",
    "import pandas as pd"
   ]
  },
  {
   "cell_type": "code",
   "execution_count": 26,
   "metadata": {},
   "outputs": [
    {
     "name": "stdout",
     "output_type": "stream",
     "text": [
      " * sqlite:///pizza_runner.db\n",
      "Done.\n"
     ]
    }
   ],
   "source": [
    "#select dataset from db\n",
    "runner_distance = %sql SELECT * FROM runner_distance\n",
    "\n",
    "#convert dataset to DataFrame\n",
    "rd_df = pd.DataFrame(runner_distance)\n",
    "\n",
    "#add calculated column \"speed\"\n",
    "rd_df[\"speed\"] = rd_df[\"distance_km\"] / (rd_df[\"duration_min\"]/60)"
   ]
  },
  {
   "cell_type": "code",
   "execution_count": 27,
   "metadata": {},
   "outputs": [
    {
     "data": {
      "text/html": [
       "<style type=\"text/css\">\n",
       "#T_40d99_row0_col0, #T_40d99_row1_col1, #T_40d99_row2_col2, #T_40d99_row3_col3 {\n",
       "  background-color: #b40426;\n",
       "  color: #f1f1f1;\n",
       "}\n",
       "#T_40d99_row0_col1, #T_40d99_row2_col0, #T_40d99_row2_col3, #T_40d99_row3_col2 {\n",
       "  background-color: #3b4cc0;\n",
       "  color: #f1f1f1;\n",
       "}\n",
       "#T_40d99_row0_col2 {\n",
       "  background-color: #9abbff;\n",
       "  color: #000000;\n",
       "}\n",
       "#T_40d99_row0_col3 {\n",
       "  background-color: #c9d7f0;\n",
       "  color: #000000;\n",
       "}\n",
       "#T_40d99_row1_col0 {\n",
       "  background-color: #5f7fe8;\n",
       "  color: #f1f1f1;\n",
       "}\n",
       "#T_40d99_row1_col2 {\n",
       "  background-color: #f39577;\n",
       "  color: #000000;\n",
       "}\n",
       "#T_40d99_row1_col3 {\n",
       "  background-color: #e4d9d2;\n",
       "  color: #000000;\n",
       "}\n",
       "#T_40d99_row2_col1 {\n",
       "  background-color: #f4c6af;\n",
       "  color: #000000;\n",
       "}\n",
       "#T_40d99_row3_col0 {\n",
       "  background-color: #799cf8;\n",
       "  color: #f1f1f1;\n",
       "}\n",
       "#T_40d99_row3_col1 {\n",
       "  background-color: #8db0fe;\n",
       "  color: #000000;\n",
       "}\n",
       "</style>\n",
       "<table id=\"T_40d99\">\n",
       "  <thead>\n",
       "    <tr>\n",
       "      <th class=\"blank level0\" >&nbsp;</th>\n",
       "      <th id=\"T_40d99_level0_col0\" class=\"col_heading level0 col0\" >runner_id</th>\n",
       "      <th id=\"T_40d99_level0_col1\" class=\"col_heading level0 col1\" >distance_km</th>\n",
       "      <th id=\"T_40d99_level0_col2\" class=\"col_heading level0 col2\" >duration_min</th>\n",
       "      <th id=\"T_40d99_level0_col3\" class=\"col_heading level0 col3\" >speed</th>\n",
       "    </tr>\n",
       "  </thead>\n",
       "  <tbody>\n",
       "    <tr>\n",
       "      <th id=\"T_40d99_level0_row0\" class=\"row_heading level0 row0\" >runner_id</th>\n",
       "      <td id=\"T_40d99_row0_col0\" class=\"data row0 col0\" >1.000000</td>\n",
       "      <td id=\"T_40d99_row0_col1\" class=\"data row0 col1\" >0.032810</td>\n",
       "      <td id=\"T_40d99_row0_col2\" class=\"data row0 col2\" >-0.096279</td>\n",
       "      <td id=\"T_40d99_row0_col3\" class=\"data row0 col3\" >0.116743</td>\n",
       "    </tr>\n",
       "    <tr>\n",
       "      <th id=\"T_40d99_level0_row1\" class=\"row_heading level0 row1\" >distance_km</th>\n",
       "      <td id=\"T_40d99_row1_col0\" class=\"data row1 col0\" >0.032810</td>\n",
       "      <td id=\"T_40d99_row1_col1\" class=\"data row1 col1\" >1.000000</td>\n",
       "      <td id=\"T_40d99_row1_col2\" class=\"data row1 col2\" >0.630454</td>\n",
       "      <td id=\"T_40d99_row1_col3\" class=\"data row1 col3\" >0.275455</td>\n",
       "    </tr>\n",
       "    <tr>\n",
       "      <th id=\"T_40d99_level0_row2\" class=\"row_heading level0 row2\" >duration_min</th>\n",
       "      <td id=\"T_40d99_row2_col0\" class=\"data row2 col0\" >-0.096279</td>\n",
       "      <td id=\"T_40d99_row2_col1\" class=\"data row2 col1\" >0.630454</td>\n",
       "      <td id=\"T_40d99_row2_col2\" class=\"data row2 col2\" >1.000000</td>\n",
       "      <td id=\"T_40d99_row2_col3\" class=\"data row2 col3\" >-0.538791</td>\n",
       "    </tr>\n",
       "    <tr>\n",
       "      <th id=\"T_40d99_level0_row3\" class=\"row_heading level0 row3\" >speed</th>\n",
       "      <td id=\"T_40d99_row3_col0\" class=\"data row3 col0\" >0.116743</td>\n",
       "      <td id=\"T_40d99_row3_col1\" class=\"data row3 col1\" >0.275455</td>\n",
       "      <td id=\"T_40d99_row3_col2\" class=\"data row3 col2\" >-0.538791</td>\n",
       "      <td id=\"T_40d99_row3_col3\" class=\"data row3 col3\" >1.000000</td>\n",
       "    </tr>\n",
       "  </tbody>\n",
       "</table>\n"
      ],
      "text/plain": [
       "<pandas.io.formats.style.Styler at 0x12e1e9f50>"
      ]
     },
     "execution_count": 27,
     "metadata": {},
     "output_type": "execute_result"
    }
   ],
   "source": [
    "#creat corr matrix\n",
    "rd_df.corr().style.background_gradient(cmap='coolwarm')"
   ]
  },
  {
   "cell_type": "markdown",
   "metadata": {},
   "source": [
    "As we can see there is positive correlation between distance_km and duraiton_min. Let´s visualise it."
   ]
  },
  {
   "cell_type": "code",
   "execution_count": 28,
   "metadata": {},
   "outputs": [
    {
     "data": {
      "image/png": "[encoded data removed]",
      "text/plain": [
       "<Figure size 640x480 with 1 Axes>"
      ]
     },
     "metadata": {},
     "output_type": "display_data"
    }
   ],
   "source": [
    "fig = plt.subplot()\n",
    "\n",
    "x = rd_df[\"distance_km\"]\n",
    "y = rd_df[\"duration_min\"]\n",
    "\n",
    "fig.scatter(x,y)\n",
    "fig.grid(True)\n",
    "\n",
    "fig.set_ylabel(\"Distance, km\")\n",
    "fig.set_xlabel(\"Duration, min\")\n",
    "\n",
    "z = np.polyfit(x, y, 1)\n",
    "p = np.poly1d(z)\n",
    "plt.plot(x,p(x),\"r--\")\n",
    "\n",
    "plt.show()"
   ]
  },
  {
   "cell_type": "markdown",
   "metadata": {},
   "source": [
    "## 7 What is the successful delivery percentage for each runner?"
   ]
  },
  {
   "cell_type": "code",
   "execution_count": 29,
   "metadata": {},
   "outputs": [
    {
     "name": "stdout",
     "output_type": "stream",
     "text": [
      " * sqlite:///pizza_runner.db\n",
      "Done.\n"
     ]
    },
    {
     "data": {
      "text/html": [
       "<table>\n",
       "    <thead>\n",
       "        <tr>\n",
       "            <th>runner_id</th>\n",
       "            <th>successful_delivery_prc</th>\n",
       "        </tr>\n",
       "    </thead>\n",
       "    <tbody>\n",
       "        <tr>\n",
       "            <td>1</td>\n",
       "            <td>100</td>\n",
       "        </tr>\n",
       "        <tr>\n",
       "            <td>2</td>\n",
       "            <td>75</td>\n",
       "        </tr>\n",
       "        <tr>\n",
       "            <td>3</td>\n",
       "            <td>50</td>\n",
       "        </tr>\n",
       "    </tbody>\n",
       "</table>"
      ],
      "text/plain": [
       "[(1, 100), (2, 75), (3, 50)]"
      ]
     },
     "execution_count": 29,
     "metadata": {},
     "output_type": "execute_result"
    }
   ],
   "source": [
    "%%sql \n",
    "\n",
    "WITH successfully_delivered AS (\n",
    "    SELECT \n",
    "        runner_id\n",
    "        , COUNT(order_id) AS total_delivered\n",
    "    FROM\n",
    "        runner_orders\n",
    "    WHERE\n",
    "        pickup_time != \"null\"\n",
    "    GROUP BY \n",
    "        runner_id\n",
    "),\n",
    "\n",
    "total_orders AS (\n",
    "    SELECT\n",
    "        runner_id\n",
    "        , COUNT(order_id) AS total_orders\n",
    "    FROM\n",
    "        runner_orders\n",
    "    GROUP BY \n",
    "        runner_id\n",
    ")\n",
    "\n",
    "SELECT\n",
    "    sd.runner_id\n",
    "    , total_delivered * 100 / total_orders AS successful_delivery_prc\n",
    "FROM\n",
    "    successfully_delivered AS sd\n",
    "    , total_orders\n",
    "WHERE\n",
    "    sd.runner_id = total_orders.runner_id\n"
   ]
  },
  {
   "cell_type": "markdown",
   "metadata": {},
   "source": [
    "# C. Ingredient Optimisation"
   ]
  },
  {
   "cell_type": "markdown",
   "metadata": {},
   "source": [
    "## 1 What are the standard ingredients for each pizza?"
   ]
  },
  {
   "cell_type": "code",
   "execution_count": 60,
   "metadata": {},
   "outputs": [
    {
     "name": "stdout",
     "output_type": "stream",
     "text": [
      " * sqlite:///pizza_runner.db\n",
      "Done.\n"
     ]
    },
    {
     "data": {
      "text/html": [
       "<table>\n",
       "    <thead>\n",
       "        <tr>\n",
       "            <th>pizza_name</th>\n",
       "            <th>toppings</th>\n",
       "        </tr>\n",
       "    </thead>\n",
       "    <tbody>\n",
       "        <tr>\n",
       "            <td>Meatlovers</td>\n",
       "            <td>Bacon, BBQ Sauce, Beef, Cheese, Chicken, Mushrooms, Pepperoni, Salami</td>\n",
       "        </tr>\n",
       "        <tr>\n",
       "            <td>Vegetarian</td>\n",
       "            <td>Cheese, Mushrooms, Onions, Peppers, Tomatoes, Tomato Sauce</td>\n",
       "        </tr>\n",
       "    </tbody>\n",
       "</table>"
      ],
      "text/plain": [
       "[('Meatlovers', 'Bacon, BBQ Sauce, Beef, Cheese, Chicken, Mushrooms, Pepperoni, Salami'),\n",
       " ('Vegetarian', 'Cheese, Mushrooms, Onions, Peppers, Tomatoes, Tomato Sauce')]"
      ]
     },
     "execution_count": 60,
     "metadata": {},
     "output_type": "execute_result"
    }
   ],
   "source": [
    "%%sql\n",
    "\n",
    "SELECT \n",
    "    pizza_name\n",
    "    , REPLACE(REPLACE(REPLACE(REPLACE(REPLACE(REPLACE(REPLACE(REPLACE(REPLACE(REPLACE(REPLACE(REPLACE(toppings, \"12\", \"Tomato Sauce\"), \"11\", \"Tomatoes\"), \"10\", \"Salami\"), \"9\", \"Peppers\"), \"8\", \"Pepperoni\"), \"7\", \"Onions\"), \"6\", \"Mushrooms\"), \"5\", \"Chicken\"), \"4\", \"Cheese\"), \"3\", \"Beef\"), \"2\", \"BBQ Sauce\"), \"1\", \"Bacon\") AS toppings\n",
    "FROM\n",
    "    pizza_names AS pn\n",
    "LEFT JOIN pizza_recipes AS pr\n",
    "    ON pn.pizza_id = pr.pizza_id"
   ]
  },
  {
   "cell_type": "code",
   "execution_count": null,
   "metadata": {},
   "outputs": [],
   "source": []
  }
 ],
 "metadata": {
  "kernelspec": {
   "display_name": "Python 3.11.0 64-bit",
   "language": "python",
   "name": "python3"
  },
  "language_info": {
   "codemirror_mode": {
    "name": "ipython",
    "version": 3
   },
   "file_extension": ".py",
   "mimetype": "text/x-python",
   "name": "python",
   "nbconvert_exporter": "python",
   "pygments_lexer": "ipython3",
   "version": "3.11.0"
  },
  "orig_nbformat": 4,
  "vscode": {
   "interpreter": {
    "hash": "aee8b7b246df8f9039afb4144a1f6fd8d2ca17a180786b69acc140d282b71a49"
   }
  }
 },
 "nbformat": 4,
 "nbformat_minor": 2
}
